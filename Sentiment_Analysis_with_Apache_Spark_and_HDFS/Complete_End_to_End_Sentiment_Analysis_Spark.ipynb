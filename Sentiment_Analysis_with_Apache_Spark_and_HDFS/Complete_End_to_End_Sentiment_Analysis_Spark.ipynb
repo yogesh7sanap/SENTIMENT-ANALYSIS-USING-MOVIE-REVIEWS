{
 "cells": [
  {
   "cell_type": "markdown",
   "metadata": {},
   "source": [
    "#### Import Warnings"
   ]
  },
  {
   "cell_type": "code",
   "execution_count": 2,
   "metadata": {},
   "outputs": [],
   "source": [
    "import warnings\n",
    "warnings.filterwarnings(\"ignore\")"
   ]
  },
  {
   "cell_type": "markdown",
   "metadata": {},
   "source": [
    "### Create Spark Session"
   ]
  },
  {
   "cell_type": "code",
   "execution_count": 3,
   "metadata": {},
   "outputs": [],
   "source": [
    "from pyspark.sql import SparkSession"
   ]
  },
  {
   "cell_type": "code",
   "execution_count": 4,
   "metadata": {},
   "outputs": [
    {
     "name": "stderr",
     "output_type": "stream",
     "text": [
      "SLF4J: Failed to load class \"org.slf4j.impl.StaticLoggerBinder\".\n",
      "SLF4J: Defaulting to no-operation (NOP) logger implementation\n",
      "SLF4J: See http://www.slf4j.org/codes.html#StaticLoggerBinder for further details.\n"
     ]
    }
   ],
   "source": [
    "# create new SparkSession\n",
    "spark = SparkSession.builder\\\n",
    "            .appName(\"model1\")\\\n",
    "            .config(\"spark.driver.memory\", \"4g\") \\\n",
    "            .config(\"spark.executor.memory\", \"4g\") \\\n",
    "            .getOrCreate()"
   ]
  },
  {
   "cell_type": "markdown",
   "metadata": {},
   "source": [
    "### Load Data From HDFS/Local "
   ]
  },
  {
   "cell_type": "code",
   "execution_count": 5,
   "metadata": {},
   "outputs": [
    {
     "name": "stderr",
     "output_type": "stream",
     "text": [
      "SLF4J: Failed to load class \"org.slf4j.impl.StaticMDCBinder\".\n",
      "SLF4J: Defaulting to no-operation MDCAdapter implementation.\n",
      "SLF4J: See http://www.slf4j.org/codes.html#no_static_mdc_binder for further details.\n",
      "                                                                                \r"
     ]
    }
   ],
   "source": [
    "# create streaming dataframe -- source = files (format=json)\n",
    "# dirPath = \"file:///home/yogesh/Sunbeam_DBDA/0.Project/001.Big_Data/movie_data/\"\n",
    "dirPath=\"hdfs://localhost:9000/user/yogesh/sentiment_analysis/movies_data/movie_data\"\n",
    "\n",
    "df = spark.read\\\n",
    "            .format(\"json\")\\\n",
    "            .option(\"nullValue\", \"\")\\\n",
    "            .option(\"multiline\",\"true\")\\\n",
    "            .option(\"path\", dirPath)\\\n",
    "            .load()"
   ]
  },
  {
   "cell_type": "code",
   "execution_count": 6,
   "metadata": {},
   "outputs": [],
   "source": [
    "#spark.stop()"
   ]
  },
  {
   "cell_type": "code",
   "execution_count": 5,
   "metadata": {},
   "outputs": [
    {
     "name": "stdout",
     "output_type": "stream",
     "text": [
      "root\n",
      " |-- movie_id: string (nullable = true)\n",
      " |-- movie_name: string (nullable = true)\n",
      " |-- movie_rating: string (nullable = true)\n",
      " |-- review_detailed_main: string (nullable = true)\n",
      " |-- review_rating: string (nullable = true)\n",
      " |-- review_title: string (nullable = true)\n",
      " |-- review_username: string (nullable = true)\n",
      "\n"
     ]
    }
   ],
   "source": [
    "df.printSchema()"
   ]
  },
  {
   "cell_type": "code",
   "execution_count": 6,
   "metadata": {},
   "outputs": [
    {
     "name": "stdout",
     "output_type": "stream",
     "text": [
      "+---------+-------------------------------------------------+------------+------------------------------------------------------------------------------------------------------------------------------------------------------------------------------------------------------------------------------------------------------------------------------------------------------------------------------------------------------------------------------------------------------------------------------------------------------------------------------------------------------------------------------------------------------------------------------------------------------------------------------------------------------------------------------------------------------------------------------------------------------------------------------------------------------------------------------------------------------------------------------------------------------------------------------------------------------------------------------------------------------------------------------------------------------------------------------------------------------------------------------------------------------------------------------------------------------------------------------------------------------------------------------------------------------------------------------------------------------------------------------------------------------------------------------------------------------------------------------+-------------+------------------------------+-----------------+\n",
      "|movie_id |movie_name                                       |movie_rating|review_detailed_main                                                                                                                                                                                                                                                                                                                                                                                                                                                                                                                                                                                                                                                                                                                                                                                                                                                                                                                                                                                                                                                                                                                                                                                                                                                                                                                                                                                                                                                          |review_rating|review_title                  |review_username  |\n",
      "+---------+-------------------------------------------------+------------+------------------------------------------------------------------------------------------------------------------------------------------------------------------------------------------------------------------------------------------------------------------------------------------------------------------------------------------------------------------------------------------------------------------------------------------------------------------------------------------------------------------------------------------------------------------------------------------------------------------------------------------------------------------------------------------------------------------------------------------------------------------------------------------------------------------------------------------------------------------------------------------------------------------------------------------------------------------------------------------------------------------------------------------------------------------------------------------------------------------------------------------------------------------------------------------------------------------------------------------------------------------------------------------------------------------------------------------------------------------------------------------------------------------------------------------------------------------------------+-------------+------------------------------+-----------------+\n",
      "|tt0120737|The Lord of the Rings: The Fellowship of the Ring|8.9         |Simply incredible. Never before have I seen a 3 hour movie that didn't seem like 3 hours. I read the Lord of the Rings very recently and I was surprised at how similar Peter Jackson's vision was to my own.\\n\\nNow about the omissions and alterations. I'm not a crazed fanatic who gets worked up over every little detail. I didn't mind Arwen's inflation and I'm actually glad Tom Bombadil was scrubbed (I felt Tom Bombadil was an unnecessary addition to the book). Despite these minor changes, the screenplay stays extremely close to the book and flows very very well (and the prologue was a nice touch).\\n\\nThe acting was flawless. As I've read many many times in other reviews, McKellen doesn't play Gandalf, he IS Gandalf. Wood, Mortensen, Holm, Astin, everyone was fantastic. My hat's off to Sean Bean who delivers an excellent performance as Boromir, a character who's intentions are good but wrestles with the corrupting power of the Ring. Bean portrays it VERY well. Oh, and Andy Serkis does a PERFECT Gollum voice. It's EXACTLY as I imagined it myself.\\n\\nThe special effects were incredible, the cave troll, the balrog, Gollum, and Sauron's Eye all looked amazing. I was also very impressed by the seamless shrinking of the vertically challenged characters.\\n\\nWhat's wrong with this movie? I have no idea... I thought everything was perfect. MY biggest gripe is having to wait an entire year to see The Two Towers!|10           |An absolutely incredible film!|NRGWasp          |\n",
      "|tt0120737|The Lord of the Rings: The Fellowship of the Ring|8.9         |(95%) If the late 70's early 80's had the Star wars trilogy, then the 2000's had this epic fantasy masterclass. Regardless of whether you're a fantasy fan or not this is too good a movie to simply pass up, and it will be one of those movies that given time will prove it to be a classic. The deeper you look into this the more one notices that every single aspect really is a truly impressive accomplishment. The fact that every single sword used by the main characters was made by hand, with extra ones made only for carrying, fighting, etc, then there's the costumes/armor/props all made by teams of many people. They even made artificial trees for gods sake. But really all those things are just extras, what really makes this a unique watch is that it really does feel huge and sweeping, the sense of scale is fantastic and I can't think of anything that even comes close to matching it. What every epic flick needs this has, the cast is great, it's exciting, it has bags of character, it's funny, sad, superbly well made, with a great score and plenty of action. It's also one of very few 2 hour 30 minute + movies ever that leaves the audience wanting more. Since watching it around Christmas 2001 at a packed out cinema, and the many times I've seen it on DVD since, it never fails to impress and charm. All in all near perfect cinematic treat that keeps on giving.                                                  |10           |Thank you Mr Jackson          |adamscastlevania2|\n",
      "+---------+-------------------------------------------------+------------+------------------------------------------------------------------------------------------------------------------------------------------------------------------------------------------------------------------------------------------------------------------------------------------------------------------------------------------------------------------------------------------------------------------------------------------------------------------------------------------------------------------------------------------------------------------------------------------------------------------------------------------------------------------------------------------------------------------------------------------------------------------------------------------------------------------------------------------------------------------------------------------------------------------------------------------------------------------------------------------------------------------------------------------------------------------------------------------------------------------------------------------------------------------------------------------------------------------------------------------------------------------------------------------------------------------------------------------------------------------------------------------------------------------------------------------------------------------------------+-------------+------------------------------+-----------------+\n",
      "only showing top 2 rows\n",
      "\n"
     ]
    }
   ],
   "source": [
    "df.show(truncate=False,n=2)"
   ]
  },
  {
   "cell_type": "code",
   "execution_count": 7,
   "metadata": {},
   "outputs": [
    {
     "name": "stderr",
     "output_type": "stream",
     "text": [
      "[Stage 2:===========================>                              (8 + 8) / 17]\r"
     ]
    },
    {
     "name": "stdout",
     "output_type": "stream",
     "text": [
      "140596\n"
     ]
    },
    {
     "name": "stderr",
     "output_type": "stream",
     "text": [
      "                                                                                \r"
     ]
    }
   ],
   "source": [
    "print(df.count())"
   ]
  },
  {
   "cell_type": "code",
   "execution_count": null,
   "metadata": {},
   "outputs": [
    {
     "name": "stdout",
     "output_type": "stream",
     "text": [
      "+---------+-------------------------------------------------+------------+-----------------------------------------------------------------------------------------------------------------------------------------------------------------------------------------------------------------------------------------------------------------------------------------------------------------------------------------------------------------------------------------------------------------------------------------------------------------------------------------------------------------------------------------------------------------------------------------------------------------------------------------------------------------------------------------------------------------------------------------------------------------------------------------------------------------------------------------------------------------------------------------------------------------------------------------------------------------------------------------------------------------------------------------------------------------------------------------------------------------------------------------------------------------------------------------------------------------------------------------------------------------------------------------------------------------------------------------------------------------------------------------------------------------------------------------------------------------------------------------------------------------------------------------------------------------------------------------------------------------------------------------------------------------------------------------------------------------------------------------------------------------------------------------------------------------------------------------------------------------------------------------------------------------------------------------------------------------------------------------------------------------------------------------------------------------------------------------------------------------------------------------------------------------------------------------------------------------------------------------------------------------------------------------------------------------------------------------------------------------------------------------------------------------------------------------------------------------------------------------------------------------------------------------------------------------------------------------------------------------------------------------------------------------------------------------+-------------+-------------------------------------------------------------------------------+-----------------+\n",
      "|movie_id |movie_name                                       |movie_rating|review_detailed_main                                                                                                                                                                                                                                                                                                                                                                                                                                                                                                                                                                                                                                                                                                                                                                                                                                                                                                                                                                                                                                                                                                                                                                                                                                                                                                                                                                                                                                                                                                                                                                                                                                                                                                                                                                                                                                                                                                                                                                                                                                                                                                                                                                                                                                                                                                                                                                                                                                                                                                                                                                                                                                                                     |review_rating|review_title                                                                   |review_username  |\n",
      "+---------+-------------------------------------------------+------------+-----------------------------------------------------------------------------------------------------------------------------------------------------------------------------------------------------------------------------------------------------------------------------------------------------------------------------------------------------------------------------------------------------------------------------------------------------------------------------------------------------------------------------------------------------------------------------------------------------------------------------------------------------------------------------------------------------------------------------------------------------------------------------------------------------------------------------------------------------------------------------------------------------------------------------------------------------------------------------------------------------------------------------------------------------------------------------------------------------------------------------------------------------------------------------------------------------------------------------------------------------------------------------------------------------------------------------------------------------------------------------------------------------------------------------------------------------------------------------------------------------------------------------------------------------------------------------------------------------------------------------------------------------------------------------------------------------------------------------------------------------------------------------------------------------------------------------------------------------------------------------------------------------------------------------------------------------------------------------------------------------------------------------------------------------------------------------------------------------------------------------------------------------------------------------------------------------------------------------------------------------------------------------------------------------------------------------------------------------------------------------------------------------------------------------------------------------------------------------------------------------------------------------------------------------------------------------------------------------------------------------------------------------------------------------------------+-------------+-------------------------------------------------------------------------------+-----------------+\n",
      "|tt0120737|The Lord of the Rings: The Fellowship of the Ring|8.9         |Simply incredible. Never before have I seen a 3 hour movie that didn't seem like 3 hours. I read the Lord of the Rings very recently and I was surprised at how similar Peter Jackson's vision was to my own.\\n\\nNow about the omissions and alterations. I'm not a crazed fanatic who gets worked up over every little detail. I didn't mind Arwen's inflation and I'm actually glad Tom Bombadil was scrubbed (I felt Tom Bombadil was an unnecessary addition to the book). Despite these minor changes, the screenplay stays extremely close to the book and flows very very well (and the prologue was a nice touch).\\n\\nThe acting was flawless. As I've read many many times in other reviews, McKellen doesn't play Gandalf, he IS Gandalf. Wood, Mortensen, Holm, Astin, everyone was fantastic. My hat's off to Sean Bean who delivers an excellent performance as Boromir, a character who's intentions are good but wrestles with the corrupting power of the Ring. Bean portrays it VERY well. Oh, and Andy Serkis does a PERFECT Gollum voice. It's EXACTLY as I imagined it myself.\\n\\nThe special effects were incredible, the cave troll, the balrog, Gollum, and Sauron's Eye all looked amazing. I was also very impressed by the seamless shrinking of the vertically challenged characters.\\n\\nWhat's wrong with this movie? I have no idea... I thought everything was perfect. MY biggest gripe is having to wait an entire year to see The Two Towers!                                                                                                                                                                                                                                                                                                                                                                                                                                                                                                                                                                                                                                                                                                                                                                                                                                                                                                                                                                                                                                                                                                                                                                                                           |10           |An absolutely incredible film!                                                 |NRGWasp          |\n",
      "|tt0120737|The Lord of the Rings: The Fellowship of the Ring|8.9         |(95%) If the late 70's early 80's had the Star wars trilogy, then the 2000's had this epic fantasy masterclass. Regardless of whether you're a fantasy fan or not this is too good a movie to simply pass up, and it will be one of those movies that given time will prove it to be a classic. The deeper you look into this the more one notices that every single aspect really is a truly impressive accomplishment. The fact that every single sword used by the main characters was made by hand, with extra ones made only for carrying, fighting, etc, then there's the costumes/armor/props all made by teams of many people. They even made artificial trees for gods sake. But really all those things are just extras, what really makes this a unique watch is that it really does feel huge and sweeping, the sense of scale is fantastic and I can't think of anything that even comes close to matching it. What every epic flick needs this has, the cast is great, it's exciting, it has bags of character, it's funny, sad, superbly well made, with a great score and plenty of action. It's also one of very few 2 hour 30 minute + movies ever that leaves the audience wanting more. Since watching it around Christmas 2001 at a packed out cinema, and the many times I've seen it on DVD since, it never fails to impress and charm. All in all near perfect cinematic treat that keeps on giving.                                                                                                                                                                                                                                                                                                                                                                                                                                                                                                                                                                                                                                                                                                                                                                                                                                                                                                                                                                                                                                                                                                                                                                                                                                                             |10           |Thank you Mr Jackson                                                           |adamscastlevania2|\n",
      "|tt0120737|The Lord of the Rings: The Fellowship of the Ring|8.9         |The first part of the Lord of the Rings trilogy, the Fellowship of the Rings opened the door to a whole new world for me. I'd never read any of Tolkien's books when I saw the film for the first time at the theatre and, now that I've read them, in retrospect I think being a neophyte to the mythology made my LOTR movie experience all the more miraculous.\\n\\nI loved The Two Towers and Return of the King almost as much as FOTR, but not quite, because seeing Fellowship for the first time was like taking a journey to a fabulous new place and meeting incredible new friends that you don't want to leave. I've never felt anything quite like what this epic evoked in me. It was akin to being a child again, with that tireless sense of wonder and enjoyment of each and every moment, maybe because as a child you are discovering your surroundings, and whatever age you are, when you watch the Fellowship of the Ring you are rendered in awe upon being introduced to the purity and beauty of Middle Earth and darkly enthralled by the majesty of Eisengard, Saruman, Sauron and all of their mighty malice. One of the things that makes this movie so special (and there are so many!) is that you fall in love not only with the \"good\" characters, but also with the \"evil\" ones. For example, Christopher Lee was amazing as Saruman, and I can't imagine the movie without him.\\n\\nSome films that might be comparable to the Lord of the Rings trilogy are: The Fifth Element, the Star Wars Trilogy parts IV, V and VI (forget the newer prequels), the Matrix trilogy (especially the first part), Interview with a Vampire, the Legend of Sleepy Hollow (with Johnny Depp), Logan's Run and The Island. They are all excellent movies and works of art that weave that movie magic that keeps you spellbound and entranced for the duration of their runtime.\\n\\nBut after seeing The Fellowship of the Ring, I knew I had found the movie by which I would judge all other movies. Based on J.R.R. Tolkien's beloved books, Peter Jackson has set a new standard in the industry of cinema, one that I honestly think has not and won't be surpassed, at least not in my lifetime, not even by PJ himself.\\n\\nIt is truly an instant classic that will stand the test of time and be loved by generations to come. God Bless Tolkien and Jackson and everyone involved in the conception and making of this film, for creating a world that is at my fingertips, only takes the touch of a button to go to whenever I want, and makes me forget everything else.\\n\\nThe LOTR Trilogy is undoubtedly MY precious, the non plus ultra of all movies!|10           |The Fellowship of the Ring: Not just a Movie, but the Door to another Dimension|bonnie91         |\n",
      "|tt0120737|The Lord of the Rings: The Fellowship of the Ring|8.9         |An incredible feat Enthrals anew every time Cannot believe its two decades ago Love it so much                                                                                                                                                                                                                                                                                                                                                                                                                                                                                                                                                                                                                                                                                                                                                                                                                                                                                                                                                                                                                                                                                                                                                                                                                                                                                                                                                                                                                                                                                                                                                                                                                                                                                                                                                                                                                                                                                                                                                                                                                                                                                                                                                                                                                                                                                                                                                                                                                                                                                                                                                                                           |10           |How the hell did they film this thing                                          |mosquitobite     |\n",
      "|tt0120737|The Lord of the Rings: The Fellowship of the Ring|8.9         |                                                                                                                                                                                                                                                                                                                                                                                                                                                                                                                                                                                                                                                                                                                                                                                                                                                                                                                                                                                                                                                                                                                                                                                                                                                                                                                                                                                                                                                                                                                                                                                                                                                                                                                                                                                                                                                                                                                                                                                                                                                                                                                                                                                                                                                                                                                                                                                                                                                                                                                                                                                                                                                                                         |             |Wow!                                                                           |minionlost       |\n",
      "+---------+-------------------------------------------------+------------+-----------------------------------------------------------------------------------------------------------------------------------------------------------------------------------------------------------------------------------------------------------------------------------------------------------------------------------------------------------------------------------------------------------------------------------------------------------------------------------------------------------------------------------------------------------------------------------------------------------------------------------------------------------------------------------------------------------------------------------------------------------------------------------------------------------------------------------------------------------------------------------------------------------------------------------------------------------------------------------------------------------------------------------------------------------------------------------------------------------------------------------------------------------------------------------------------------------------------------------------------------------------------------------------------------------------------------------------------------------------------------------------------------------------------------------------------------------------------------------------------------------------------------------------------------------------------------------------------------------------------------------------------------------------------------------------------------------------------------------------------------------------------------------------------------------------------------------------------------------------------------------------------------------------------------------------------------------------------------------------------------------------------------------------------------------------------------------------------------------------------------------------------------------------------------------------------------------------------------------------------------------------------------------------------------------------------------------------------------------------------------------------------------------------------------------------------------------------------------------------------------------------------------------------------------------------------------------------------------------------------------------------------------------------------------------------+-------------+-------------------------------------------------------------------------------+-----------------+\n",
      "only showing top 5 rows\n",
      "\n"
     ]
    }
   ],
   "source": [
    "#df.show(truncate=False, n=5)"
   ]
  },
  {
   "cell_type": "code",
   "execution_count": 8,
   "metadata": {},
   "outputs": [
    {
     "data": {
      "text/plain": [
       "140596"
      ]
     },
     "execution_count": 8,
     "metadata": {},
     "output_type": "execute_result"
    }
   ],
   "source": [
    "df.count()"
   ]
  },
  {
   "cell_type": "code",
   "execution_count": 9,
   "metadata": {},
   "outputs": [
    {
     "data": {
      "text/plain": [
       "['movie_id',\n",
       " 'movie_name',\n",
       " 'movie_rating',\n",
       " 'review_detailed_main',\n",
       " 'review_rating',\n",
       " 'review_title',\n",
       " 'review_username']"
      ]
     },
     "execution_count": 9,
     "metadata": {},
     "output_type": "execute_result"
    }
   ],
   "source": [
    "df.columns"
   ]
  },
  {
   "cell_type": "code",
   "execution_count": 10,
   "metadata": {},
   "outputs": [
    {
     "data": {
      "text/plain": [
       "7"
      ]
     },
     "execution_count": 10,
     "metadata": {},
     "output_type": "execute_result"
    }
   ],
   "source": [
    "len(df.columns)"
   ]
  },
  {
   "cell_type": "code",
   "execution_count": 11,
   "metadata": {},
   "outputs": [],
   "source": [
    "from pyspark.sql.functions import col, sum,when"
   ]
  },
  {
   "cell_type": "markdown",
   "metadata": {},
   "source": [
    "#### Adding NA for \"\""
   ]
  },
  {
   "cell_type": "code",
   "execution_count": 12,
   "metadata": {},
   "outputs": [],
   "source": [
    "df = df.select([when(col(c) == \"\", None).otherwise(col(c)).alias(c) for c in df.columns])"
   ]
  },
  {
   "cell_type": "markdown",
   "metadata": {},
   "source": [
    "#### Check for NA"
   ]
  },
  {
   "cell_type": "code",
   "execution_count": 13,
   "metadata": {},
   "outputs": [
    {
     "name": "stderr",
     "output_type": "stream",
     "text": [
      "[Stage 8:==========>                                               (3 + 8) / 17]\r"
     ]
    },
    {
     "name": "stdout",
     "output_type": "stream",
     "text": [
      "+--------+----------+------------+--------------------+-------------+------------+---------------+\n",
      "|movie_id|movie_name|movie_rating|review_detailed_main|review_rating|review_title|review_username|\n",
      "+--------+----------+------------+--------------------+-------------+------------+---------------+\n",
      "|       0|         0|           0|               36764|        10008|           0|              0|\n",
      "+--------+----------+------------+--------------------+-------------+------------+---------------+\n",
      "\n"
     ]
    },
    {
     "name": "stderr",
     "output_type": "stream",
     "text": [
      "                                                                                \r"
     ]
    }
   ],
   "source": [
    "df.select([sum(col(c).isNull().cast(\"int\")).alias(c) for c in df.columns]).show()"
   ]
  },
  {
   "cell_type": "code",
   "execution_count": 14,
   "metadata": {},
   "outputs": [],
   "source": [
    "df = df.na.drop(subset=[\"review_rating\"])"
   ]
  },
  {
   "cell_type": "code",
   "execution_count": 15,
   "metadata": {},
   "outputs": [
    {
     "name": "stderr",
     "output_type": "stream",
     "text": [
      "[Stage 11:==============================>                          (9 + 8) / 17]\r"
     ]
    },
    {
     "name": "stdout",
     "output_type": "stream",
     "text": [
      "+--------+----------+------------+--------------------+-------------+------------+---------------+\n",
      "|movie_id|movie_name|movie_rating|review_detailed_main|review_rating|review_title|review_username|\n",
      "+--------+----------+------------+--------------------+-------------+------------+---------------+\n",
      "|       0|         0|           0|               26756|            0|           0|              0|\n",
      "+--------+----------+------------+--------------------+-------------+------------+---------------+\n",
      "\n"
     ]
    },
    {
     "name": "stderr",
     "output_type": "stream",
     "text": [
      "                                                                                \r"
     ]
    }
   ],
   "source": [
    "df.select([sum(col(c).isNull().cast(\"int\")).alias(c) for c in df.columns]).show()"
   ]
  },
  {
   "cell_type": "code",
   "execution_count": 16,
   "metadata": {},
   "outputs": [],
   "source": [
    "df = df.na.drop(subset=[\"review_title\"])"
   ]
  },
  {
   "cell_type": "code",
   "execution_count": 17,
   "metadata": {},
   "outputs": [
    {
     "name": "stdout",
     "output_type": "stream",
     "text": [
      "root\n",
      " |-- movie_id: string (nullable = true)\n",
      " |-- movie_name: string (nullable = true)\n",
      " |-- movie_rating: string (nullable = true)\n",
      " |-- review_detailed_main: string (nullable = true)\n",
      " |-- review_rating: string (nullable = true)\n",
      " |-- review_title: string (nullable = true)\n",
      " |-- review_username: string (nullable = true)\n",
      "\n"
     ]
    }
   ],
   "source": [
    "df.printSchema()"
   ]
  },
  {
   "cell_type": "code",
   "execution_count": 18,
   "metadata": {},
   "outputs": [],
   "source": [
    "from pyspark.sql.functions import count"
   ]
  },
  {
   "cell_type": "markdown",
   "metadata": {},
   "source": [
    "#### Check for Duplicates"
   ]
  },
  {
   "cell_type": "code",
   "execution_count": 19,
   "metadata": {},
   "outputs": [
    {
     "name": "stderr",
     "output_type": "stream",
     "text": [
      "[Stage 14:=======================================>                (12 + 5) / 17]\r"
     ]
    },
    {
     "name": "stdout",
     "output_type": "stream",
     "text": [
      "+---------+--------------------+------------+--------------------+-------------+--------------------+-------------------+-----+\n",
      "| movie_id|          movie_name|movie_rating|review_detailed_main|review_rating|        review_title|    review_username|count|\n",
      "+---------+--------------------+------------+--------------------+-------------+--------------------+-------------------+-----+\n",
      "|tt0369226|   Alone in the Dark|         2.4|I'm speechless, p...|            1|I am scarred...fo...|              Asp87|    2|\n",
      "|tt0369226|   Alone in the Dark|         2.4|                NULL|            3|Such potential, s...|        Fishman1966|    2|\n",
      "|tt0327554|            Catwoman|         3.4|                NULL|            4|No logic to speak...|          edblask04|    2|\n",
      "|tt1098327|Dragonball Evolution|         2.5|It's truly amazin...|            5|A true Hollywood ...|        supernick-3|    2|\n",
      "|tt0466342|          Date Movie|         2.8|                NULL|            1|Absolutely horren...|       renarenarena|    2|\n",
      "|tt0466342|          Date Movie|         2.8|Date Movie was a ...|            1|Not funny one bit...|             KBFan1|    2|\n",
      "|tt0466342|          Date Movie|         2.8|The 2006 spoof \"D...|            5|It was what it wa...|     paul_haakonsen|    2|\n",
      "|tt0466342|          Date Movie|         2.8|What went wrong f...|            1|Truly worse than ...|       nickyboy1001|    2|\n",
      "|tt0816692|        Interstellar|         8.7|It's difficult to...|           10|Absolutely incred...|       zivshechtman|    2|\n",
      "|tt0816692|        Interstellar|         8.7|Not so much film ...|           10|Combining ENTER T...|A_Different_Drummer|    2|\n",
      "|tt0816692|        Interstellar|         8.7|This film has Dra...|           10|Best science fict...| amansharmaas-01429|    2|\n",
      "|tt0816692|        Interstellar|         8.7|You know those sp...|            2|A sad blockbuster...|       cheetcheetah|    2|\n",
      "|tt0317676|   House of the Dead|         2.1|                NULL|            1|Bad. Terrible. Ho...|          Mr Parker|    2|\n",
      "|tt0383222|          BloodRayne|         3.0|OK, I'm giving th...|            5|Uwe Boll strikes ...|           gwood194|    2|\n",
      "|tt0383222|          BloodRayne|         3.0|Wow, what to say ...|            1|One of the worst ...|        photodork52|    2|\n",
      "|tt0369226|   Alone in the Dark|         2.4|I wasn't going to...|            1|Why game-inspired...|  morkulv_athferion|    2|\n",
      "|tt0369226|   Alone in the Dark|         2.4|Egad this thing w...|            1|Finally a movie t...|            efmovie|    2|\n",
      "|tt0369226|   Alone in the Dark|         2.4|I can't say enoug...|            1|This movie will g...|           jungpick|    2|\n",
      "|tt0327554|            Catwoman|         3.4|So, to curb the s...|            1|I think even \"Cap...|      HighlanderArg|    2|\n",
      "|tt0327554|            Catwoman|         3.4|                NULL|           10|People were just ...|          Sherazade|    2|\n",
      "+---------+--------------------+------------+--------------------+-------------+--------------------+-------------------+-----+\n",
      "only showing top 20 rows\n",
      "\n"
     ]
    },
    {
     "name": "stderr",
     "output_type": "stream",
     "text": [
      "                                                                                \r"
     ]
    }
   ],
   "source": [
    "df.groupBy(df.columns).count().filter(col(\"count\") > 1).show()"
   ]
  },
  {
   "cell_type": "markdown",
   "metadata": {},
   "source": [
    "#### Removing Duplicates"
   ]
  },
  {
   "cell_type": "code",
   "execution_count": 20,
   "metadata": {},
   "outputs": [],
   "source": [
    "df = df.dropDuplicates()"
   ]
  },
  {
   "cell_type": "code",
   "execution_count": 21,
   "metadata": {},
   "outputs": [
    {
     "name": "stderr",
     "output_type": "stream",
     "text": [
      "                                                                                \r"
     ]
    },
    {
     "name": "stdout",
     "output_type": "stream",
     "text": [
      "+--------+----------+------------+--------------------+-------------+------------+---------------+-----+\n",
      "|movie_id|movie_name|movie_rating|review_detailed_main|review_rating|review_title|review_username|count|\n",
      "+--------+----------+------------+--------------------+-------------+------------+---------------+-----+\n",
      "+--------+----------+------------+--------------------+-------------+------------+---------------+-----+\n",
      "\n"
     ]
    }
   ],
   "source": [
    "df.groupBy(df.columns).count().filter(col(\"count\") > 1).show()"
   ]
  },
  {
   "cell_type": "code",
   "execution_count": 22,
   "metadata": {},
   "outputs": [
    {
     "name": "stderr",
     "output_type": "stream",
     "text": [
      "[Stage 26:>                                                         (0 + 8) / 9]\r"
     ]
    },
    {
     "name": "stdout",
     "output_type": "stream",
     "text": [
      "+-------+------------------+------------------+\n",
      "|summary|     review_rating|      movie_rating|\n",
      "+-------+------------------+------------------+\n",
      "|  count|            114495|            114495|\n",
      "|   mean| 5.632813659985152|5.5527944451724345|\n",
      "| stddev|3.4682241791436024|2.1589945317927253|\n",
      "|    min|                 1|               1.2|\n",
      "|    max|                 9|               9.3|\n",
      "+-------+------------------+------------------+\n",
      "\n"
     ]
    },
    {
     "name": "stderr",
     "output_type": "stream",
     "text": [
      "                                                                                \r"
     ]
    }
   ],
   "source": [
    "df.describe([\"review_rating\",\"movie_rating\"]).show()"
   ]
  },
  {
   "cell_type": "code",
   "execution_count": 23,
   "metadata": {},
   "outputs": [],
   "source": [
    "from pyspark.sql.functions import concat_ws\n",
    "\n",
    "df = df.withColumn(\"Review\", concat_ws(\" : \", df[\"review_title\"], df[\"review_detailed_main\"]))\n"
   ]
  },
  {
   "cell_type": "code",
   "execution_count": null,
   "metadata": {},
   "outputs": [
    {
     "name": "stderr",
     "output_type": "stream",
     "text": [
      "[Stage 30:==========================>                              (8 + 8) / 17]\r"
     ]
    },
    {
     "name": "stdout",
     "output_type": "stream",
     "text": [
      "+---------+-----------------------+------------+-----------------------------------------------------------------------------------------------------------------------------------------------------------------------------------------------------------------------------------------------------------------------------------------------------------------------------------------------------------------------------------------------------------------------------------------------------------------------------------------------------------------------------------------------------------------------------------------------------------------------------------------------------------------------------------------------------------------------------------------------------------------------------------------------------------------------------------------------------------------------------------------------------------------------------------------------------------------------------------------------------------------------------------------------------------------------------------------------------------------------------------------------------------------------------------------------------------------------------------------------------------------------------------------------------------------------------------------------------------------------------------------------------------------------------------------------------------------------------------------------------------------------------------------------------------------------------------------------------------------------------------------------------------------------------------------------------------------------------------------------------------------------------------------------------------------------------------------------------------------------------------------------------------------------------------------------------------------------------------------------------------------------------------------------------------------------------------------------------------------------------------------------------------------------------------------------------------------------------------------------------------------------------------------------------------------------------------------------------------------------------------------------------------------------------------------------------------------------------------------------------------------------------------------------------------------------------------------------------------------------------------------------------------------------------------------------------------------------------------------------------------------------------------------------------------------------------------------------------------------------------------------------------------------------------------------------------------------------------------------------------------------------------------------------------------------------------------------------------------------------------------------------------------------------------------------------------------------------------------------------------------------------------------------------------------------------------------------------------------------------------------------------------------------------------------------------------------------------------------------------------------------------------------------------------------------------------------------------------------------------------------------------------------------------------------------------------------------------------------------------------------------------------------------------------------------------------------------------------------------------------------------------+-------------+------------------------------------------------------------------------+-------------------+----------------------------------------------------------------------------------------------------------------------------------------------------------------------------------------------------------------------------------------------------------------------------------------------------------------------------------------------------------------------------------------------------------------------------------------------------------------------------------------------------------------------------------------------------------------------------------------------------------------------------------------------------------------------------------------------------------------------------------------------------------------------------------------------------------------------------------------------------------------------------------------------------------------------------------------------------------------------------------------------------------------------------------------------------------------------------------------------------------------------------------------------------------------------------------------------------------------------------------------------------------------------------------------------------------------------------------------------------------------------------------------------------------------------------------------------------------------------------------------------------------------------------------------------------------------------------------------------------------------------------------------------------------------------------------------------------------------------------------------------------------------------------------------------------------------------------------------------------------------------------------------------------------------------------------------------------------------------------------------------------------------------------------------------------------------------------------------------------------------------------------------------------------------------------------------------------------------------------------------------------------------------------------------------------------------------------------------------------------------------------------------------------------------------------------------------------------------------------------------------------------------------------------------------------------------------------------------------------------------------------------------------------------------------------------------------------------------------------------------------------------------------------------------------------------------------------------------------------------------------------------------------------------------------------------------------------------------------------------------------------------------------------------------------------------------------------------------------------------------------------------------------------------------------------------------------------------------------------------------------------------------------------------------------------------------------------------------------------------------------------------------------------------------------------------------------------------------------------------------------------------------------------------------------------------------------------------------------------------------------------------------------------------------------------------------------------------------------------------------------------------------------------------------------------------------------------------------------------------------------------------------------------------------------------+\n",
      "|movie_id |movie_name             |movie_rating|review_detailed_main                                                                                                                                                                                                                                                                                                                                                                                                                                                                                                                                                                                                                                                                                                                                                                                                                                                                                                                                                                                                                                                                                                                                                                                                                                                                                                                                                                                                                                                                                                                                                                                                                                                                                                                                                                                                                                                                                                                                                                                                                                                                                                                                                                                                                                                                                                                                                                                                                                                                                                                                                                                                                                                                                                                                                                                                                                                                                                                                                                                                                                                                                                                                                                                                                                                                                                                                                                                                                                                                                                                                                                                                                                                                                                                                                                                                                                                                           |review_rating|review_title                                                            |review_username    |Review                                                                                                                                                                                                                                                                                                                                                                                                                                                                                                                                                                                                                                                                                                                                                                                                                                                                                                                                                                                                                                                                                                                                                                                                                                                                                                                                                                                                                                                                                                                                                                                                                                                                                                                                                                                                                                                                                                                                                                                                                                                                                                                                                                                                                                                                                                                                                                                                                                                                                                                                                                                                                                                                                                                                                                                                                                                                                                                                                                                                                                                                                                                                                                                                                                                                                                                                                                                                                                                                                                                                                                                                                                                                                                                                                                                                                                                                                                                      |\n",
      "+---------+-----------------------+------------+-----------------------------------------------------------------------------------------------------------------------------------------------------------------------------------------------------------------------------------------------------------------------------------------------------------------------------------------------------------------------------------------------------------------------------------------------------------------------------------------------------------------------------------------------------------------------------------------------------------------------------------------------------------------------------------------------------------------------------------------------------------------------------------------------------------------------------------------------------------------------------------------------------------------------------------------------------------------------------------------------------------------------------------------------------------------------------------------------------------------------------------------------------------------------------------------------------------------------------------------------------------------------------------------------------------------------------------------------------------------------------------------------------------------------------------------------------------------------------------------------------------------------------------------------------------------------------------------------------------------------------------------------------------------------------------------------------------------------------------------------------------------------------------------------------------------------------------------------------------------------------------------------------------------------------------------------------------------------------------------------------------------------------------------------------------------------------------------------------------------------------------------------------------------------------------------------------------------------------------------------------------------------------------------------------------------------------------------------------------------------------------------------------------------------------------------------------------------------------------------------------------------------------------------------------------------------------------------------------------------------------------------------------------------------------------------------------------------------------------------------------------------------------------------------------------------------------------------------------------------------------------------------------------------------------------------------------------------------------------------------------------------------------------------------------------------------------------------------------------------------------------------------------------------------------------------------------------------------------------------------------------------------------------------------------------------------------------------------------------------------------------------------------------------------------------------------------------------------------------------------------------------------------------------------------------------------------------------------------------------------------------------------------------------------------------------------------------------------------------------------------------------------------------------------------------------------------------------------------------------------------------------------+-------------+------------------------------------------------------------------------+-------------------+----------------------------------------------------------------------------------------------------------------------------------------------------------------------------------------------------------------------------------------------------------------------------------------------------------------------------------------------------------------------------------------------------------------------------------------------------------------------------------------------------------------------------------------------------------------------------------------------------------------------------------------------------------------------------------------------------------------------------------------------------------------------------------------------------------------------------------------------------------------------------------------------------------------------------------------------------------------------------------------------------------------------------------------------------------------------------------------------------------------------------------------------------------------------------------------------------------------------------------------------------------------------------------------------------------------------------------------------------------------------------------------------------------------------------------------------------------------------------------------------------------------------------------------------------------------------------------------------------------------------------------------------------------------------------------------------------------------------------------------------------------------------------------------------------------------------------------------------------------------------------------------------------------------------------------------------------------------------------------------------------------------------------------------------------------------------------------------------------------------------------------------------------------------------------------------------------------------------------------------------------------------------------------------------------------------------------------------------------------------------------------------------------------------------------------------------------------------------------------------------------------------------------------------------------------------------------------------------------------------------------------------------------------------------------------------------------------------------------------------------------------------------------------------------------------------------------------------------------------------------------------------------------------------------------------------------------------------------------------------------------------------------------------------------------------------------------------------------------------------------------------------------------------------------------------------------------------------------------------------------------------------------------------------------------------------------------------------------------------------------------------------------------------------------------------------------------------------------------------------------------------------------------------------------------------------------------------------------------------------------------------------------------------------------------------------------------------------------------------------------------------------------------------------------------------------------------------------------------------------------------------------------------------------------------+\n",
      "|tt0118715|The Big Lebowski       |8.1         |Jeff Bridges is perfect as Jeff Lebowski, a.k.a. The Dude; he's an ageing, amiable slacker who doesn't do much with his time besides bowl. When he's mistaken for a rich man (David Huddleston) with the same name, he's hired by the rich man to deliver a ransom. Things go from bad to worse in a hurry, in large part because The Dude frequently involves his loud, abrasive buddy Walter (John Goodman), a crazed Vietnam vet, in his actions.\\n\\nIn terms of the overall Coen brothers filmography, this is relatively minor stuff. It goes on a little too long, and wasn't always terribly funny to this viewer. It also feels self-indulgent at times. And yet, Joel and Ethan here craft a twist-laden, elaborate story that does have some good moments, as well as a highly profane script and an eclectic soundtrack. (The Dude hates The Eagles, but is a big fan of CCR.) Its quotes certainly entered the public consciousness in a big way, with Bridges quickly becoming a pop culture icon in his role. \"Well, you know, that's just like your opinion, man.\"\\n\\nThe main reason it worked to any degree (at least for this viewer) was because of its impressive and well-chosen cast: Sam Elliott (as a friendly narrator), Julianne Moore, Steve Buscemi (as in \"Shut the *beep* up, Donny!\"), Philip Seymour Hoffman, Tara Reid, Peter Stormare, David Thewlis, Flea, Ben Gazzara, Jon Polito, etc. John Turturro is such a hoot as a bowler named Jesus that it's too bad that his screen time is so limited.\\n\\n\"The Big Lebowski\" is a truly character-driven comedy that does wrap up in a typically amusing way, and it shows that its main character can't just be dismissed as a non-thinking deadbeat; he knows when he's been used. It gave this viewer a conclusion that earned an honest smile, as Elliott breaks the fourth wall and comments on the nature of the yarn with which he's regaled us.\\n\\nSeven out of 10.                                                                                                                                                                                                                                                                                                                                                                                                                                                                                                                                                                                                                                                                                                                                                                                                                                                                                                                                                                                                                                                                                                                                                                                                                                                                                                                                                                                                                                                                                                                                                                                                                                                                                                                                                                                                                                                                                                                                    |7            |This ol' movie really ties the collection together.                     |Hey_Sweden         |This ol' movie really ties the collection together. : Jeff Bridges is perfect as Jeff Lebowski, a.k.a. The Dude; he's an ageing, amiable slacker who doesn't do much with his time besides bowl. When he's mistaken for a rich man (David Huddleston) with the same name, he's hired by the rich man to deliver a ransom. Things go from bad to worse in a hurry, in large part because The Dude frequently involves his loud, abrasive buddy Walter (John Goodman), a crazed Vietnam vet, in his actions.\\n\\nIn terms of the overall Coen brothers filmography, this is relatively minor stuff. It goes on a little too long, and wasn't always terribly funny to this viewer. It also feels self-indulgent at times. And yet, Joel and Ethan here craft a twist-laden, elaborate story that does have some good moments, as well as a highly profane script and an eclectic soundtrack. (The Dude hates The Eagles, but is a big fan of CCR.) Its quotes certainly entered the public consciousness in a big way, with Bridges quickly becoming a pop culture icon in his role. \"Well, you know, that's just like your opinion, man.\"\\n\\nThe main reason it worked to any degree (at least for this viewer) was because of its impressive and well-chosen cast: Sam Elliott (as a friendly narrator), Julianne Moore, Steve Buscemi (as in \"Shut the *beep* up, Donny!\"), Philip Seymour Hoffman, Tara Reid, Peter Stormare, David Thewlis, Flea, Ben Gazzara, Jon Polito, etc. John Turturro is such a hoot as a bowler named Jesus that it's too bad that his screen time is so limited.\\n\\n\"The Big Lebowski\" is a truly character-driven comedy that does wrap up in a typically amusing way, and it shows that its main character can't just be dismissed as a non-thinking deadbeat; he knows when he's been used. It gave this viewer a conclusion that earned an honest smile, as Elliott breaks the fourth wall and comments on the nature of the yarn with which he's regaled us.\\n\\nSeven out of 10.                                                                                                                                                                                                                                                                                                                                                                                                                                                                                                                                                                                                                                                                                                                                                                                                                                                                                                                                                                                                                                                                                                                                                                                                                                                                                                                                                                                                                                                                                                                                                                                                                                                                                                                                                                                                                                                                                                           |\n",
      "|tt0118715|The Big Lebowski       |8.1         |Detailed in every scene, rich characterization, diverse soundtrack, witty real life dialogue. This movie is God. I feel that it takes a lot from a movie to make me leave with a sense of satiation, but this movie does it for me. Wonderfully written and directed by the Coen brothers, it is yet another masterpiece from them. Another thing is, that this movie never tries to be funny. It doesn't have random quirky characters or punch lines, it all comes from the scenes, very naturally. 10 out of 10. And how cool is the scene when the sheriff throws and hits The Dude in the forehead with the mug, and the mug doesn't turn while it's in the air! So many great scenes.                                                                                                                                                                                                                                                                                                                                                                                                                                                                                                                                                                                                                                                                                                                                                                                                                                                                                                                                                                                                                                                                                                                                                                                                                                                                                                                                                                                                                                                                                                                                                                                                                                                                                                                                                                                                                                                                                                                                                                                                                                                                                                                                                                                                                                                                                                                                                                                                                                                                                                                                                                                                                                                                                                                                                                                                                                                                                                                                                                                                                                                                                                                                                                                                    |10           |This movie is amazing...truly a masterpiece.                            |dynogt777          |This movie is amazing...truly a masterpiece. : Detailed in every scene, rich characterization, diverse soundtrack, witty real life dialogue. This movie is God. I feel that it takes a lot from a movie to make me leave with a sense of satiation, but this movie does it for me. Wonderfully written and directed by the Coen brothers, it is yet another masterpiece from them. Another thing is, that this movie never tries to be funny. It doesn't have random quirky characters or punch lines, it all comes from the scenes, very naturally. 10 out of 10. And how cool is the scene when the sheriff throws and hits The Dude in the forehead with the mug, and the mug doesn't turn while it's in the air! So many great scenes.                                                                                                                                                                                                                                                                                                                                                                                                                                                                                                                                                                                                                                                                                                                                                                                                                                                                                                                                                                                                                                                                                                                                                                                                                                                                                                                                                                                                                                                                                                                                                                                                                                                                                                                                                                                                                                                                                                                                                                                                                                                                                                                                                                                                                                                                                                                                                                                                                                                                                                                                                                                                                                                                                                                                                                                                                                                                                                                                                                                                                                                                                                                                                                                  |\n",
      "|tt0118715|The Big Lebowski       |8.1         |Finally or unfortunately I took almost 2 hours of my life to watch this renowned \"comedy\" masterpiece.\\n\\nApparently I belong to that handful of people who organically dislike the Dude and its story.\\n\\nThe story felt lazy, boring, unfunny and (simplistically put) stupid. I had to take a brake for a day or two at least 3 times. I really hoped it will all make sense in the end, but no... Everything keept on circling around being a looser, hanging with similar people, wasting your time, smoking weed and looking for conspiracy theories.\\n\\nIn conclusion: Back in the 90's we called that \"trash comedy\" and If you like it, than be my guest and watch it ASAP, , otherwise take a walk and get some fresh air.                                                                                                                                                                                                                                                                                                                                                                                                                                                                                                                                                                                                                                                                                                                                                                                                                                                                                                                                                                                                                                                                                                                                                                                                                                                                                                                                                                                                                                                                                                                                                                                                                                                                                                                                                                                                                                                                                                                                                                                                                                                                                                                                                                                                                                                                                                                                                                                                                                                                                                                                                                                                                                                                                                                                                                                                                                                                                                                                                                                                                                                                                                                                                           |5            |25 years of hesitating... I should have trusted my gut                  |peter-laganis      |25 years of hesitating... I should have trusted my gut : Finally or unfortunately I took almost 2 hours of my life to watch this renowned \"comedy\" masterpiece.\\n\\nApparently I belong to that handful of people who organically dislike the Dude and its story.\\n\\nThe story felt lazy, boring, unfunny and (simplistically put) stupid. I had to take a brake for a day or two at least 3 times. I really hoped it will all make sense in the end, but no... Everything keept on circling around being a looser, hanging with similar people, wasting your time, smoking weed and looking for conspiracy theories.\\n\\nIn conclusion: Back in the 90's we called that \"trash comedy\" and If you like it, than be my guest and watch it ASAP, , otherwise take a walk and get some fresh air.                                                                                                                                                                                                                                                                                                                                                                                                                                                                                                                                                                                                                                                                                                                                                                                                                                                                                                                                                                                                                                                                                                                                                                                                                                                                                                                                                                                                                                                                                                                                                                                                                                                                                                                                                                                                                                                                                                                                                                                                                                                                                                                                                                                                                                                                                                                                                                                                                                                                                                                                                                                                                                                                                                                                                                                                                                                                                                                                                                                                                                                                                                                               |\n",
      "|tt0118715|The Big Lebowski       |8.1         |The story is hard to follow, and some characters just appear for no reason, but The Big Lebowski is still my favorite movie. The story makes more sense if you watch the movie ten times or so. The characters in the movie are the most entertaining I have ever seen, and make the movie worth watching as much as possible. John Goodman's performance alone is worth seeing the movie ten times to understand the story.                                                                                                                                                                                                                                                                                                                                                                                                                                                                                                                                                                                                                                                                                                                                                                                                                                                                                                                                                                                                                                                                                                                                                                                                                                                                                                                                                                                                                                                                                                                                                                                                                                                                                                                                                                                                                                                                                                                                                                                                                                                                                                                                                                                                                                                                                                                                                                                                                                                                                                                                                                                                                                                                                                                                                                                                                                                                                                                                                                                                                                                                                                                                                                                                                                                                                                                                                                                                                                                                   |10           |My Fav-or-ite movie                                                     |The Big Whadoo     |My Fav-or-ite movie : The story is hard to follow, and some characters just appear for no reason, but The Big Lebowski is still my favorite movie. The story makes more sense if you watch the movie ten times or so. The characters in the movie are the most entertaining I have ever seen, and make the movie worth watching as much as possible. John Goodman's performance alone is worth seeing the movie ten times to understand the story.                                                                                                                                                                                                                                                                                                                                                                                                                                                                                                                                                                                                                                                                                                                                                                                                                                                                                                                                                                                                                                                                                                                                                                                                                                                                                                                                                                                                                                                                                                                                                                                                                                                                                                                                                                                                                                                                                                                                                                                                                                                                                                                                                                                                                                                                                                                                                                                                                                                                                                                                                                                                                                                                                                                                                                                                                                                                                                                                                                                                                                                                                                                                                                                                                                                                                                                                                                                                                                                                          |\n",
      "|tt0110912|Pulp Fiction           |8.9         |So original, it comes off like an experimentational movie, but one that catches fire with absolutely brilliant writing, dialogue, and character creation, in addition to all-time standout performances by every single actor, which means the directing was also superb.\\n\\nSome people may still question what it's about because for the most part we have four different stories converging at various coordinates in a timeline loop that do not clearly have a meaning as to why other than to just have creative fun with the way it's told.\\n\\nYou have a philosophizing, bible thumping hitman (Samuel L Jackson) finding his path to salvation and restored faith and theism while participating in the events that comprise the movie. This movie is perfect in so many scenes with only a few weak parts. It's loaded with memorable lines, and it was meticulously cared for into every last detail including the music and what dance moves characters should have in addition to the outrageously brilliant screenplay that somehow never slips over the top.\\n\\nTarantino still hasn't even come close to this lightning in a bottle masterpiece.                                                                                                                                                                                                                                                                                                                                                                                                                                                                                                                                                                                                                                                                                                                                                                                                                                                                                                                                                                                                                                                                                                                                                                                                                                                                                                                                                                                                                                                                                                                                                                                                                                                                                                                                                                                                                                                                                                                                                                                                                                                                                                                                                                                                                                                                                                                                                                                                                                                                                                                                                                                                                                                                                                                              |9            |Lightning in a Bottle                                                   |heisenberg12       |Lightning in a Bottle : So original, it comes off like an experimentational movie, but one that catches fire with absolutely brilliant writing, dialogue, and character creation, in addition to all-time standout performances by every single actor, which means the directing was also superb.\\n\\nSome people may still question what it's about because for the most part we have four different stories converging at various coordinates in a timeline loop that do not clearly have a meaning as to why other than to just have creative fun with the way it's told.\\n\\nYou have a philosophizing, bible thumping hitman (Samuel L Jackson) finding his path to salvation and restored faith and theism while participating in the events that comprise the movie. This movie is perfect in so many scenes with only a few weak parts. It's loaded with memorable lines, and it was meticulously cared for into every last detail including the music and what dance moves characters should have in addition to the outrageously brilliant screenplay that somehow never slips over the top.\\n\\nTarantino still hasn't even come close to this lightning in a bottle masterpiece.                                                                                                                                                                                                                                                                                                                                                                                                                                                                                                                                                                                                                                                                                                                                                                                                                                                                                                                                                                                                                                                                                                                                                                                                                                                                                                                                                                                                                                                                                                                                                                                                                                                                                                                                                                                                                                                                                                                                                                                                                                                                                                                                                                                                                                                                                                                                                                                                                                                                                                                                                                                                                                                                                                                                   |\n",
      "|tt0110912|Pulp Fiction           |8.9         |I saw this in the theater with my girlfriend because she had seen it with some friends and said it was so good. I made it through the whole thing SOMEHOW, and as we were walking through the parking lot I just started thinking that this movie has sucked over 2 hours of life from me and I'll never get it back. I honestly felt dumber for watching the whole thing. There is nothing good about this movie except a couple of members of the cast (NOT Travolta nor Thurman) and their ability was limited due to the awful script. There is nothing groundbreaking about this movie, the dialog is boring, the characters have no depth. It seems like it was made on a 24 hour deadline and they had plenty of spare time to go back and add an \"F\" word anywhere there was a space. I wouldn't have cared less if Tarantino had had another character that built an atomic bomb that accidentally detonated and wiped out everyone in this collection of trash. This is by far one of the worst movies I have ever seen, especially for something so highly praised.                                                                                                                                                                                                                                                                                                                                                                                                                                                                                                                                                                                                                                                                                                                                                                                                                                                                                                                                                                                                                                                                                                                                                                                                                                                                                                                                                                                                                                                                                                                                                                                                                                                                                                                                                                                                                                                                                                                                                                                                                                                                                                                                                                                                                                                                                                                                                                                                                                                                                                                                                                                                                                                                                                                                                                                                                 |1            |Wow!!!!                                                                 |outoftouch69       |Wow!!!! : I saw this in the theater with my girlfriend because she had seen it with some friends and said it was so good. I made it through the whole thing SOMEHOW, and as we were walking through the parking lot I just started thinking that this movie has sucked over 2 hours of life from me and I'll never get it back. I honestly felt dumber for watching the whole thing. There is nothing good about this movie except a couple of members of the cast (NOT Travolta nor Thurman) and their ability was limited due to the awful script. There is nothing groundbreaking about this movie, the dialog is boring, the characters have no depth. It seems like it was made on a 24 hour deadline and they had plenty of spare time to go back and add an \"F\" word anywhere there was a space. I wouldn't have cared less if Tarantino had had another character that built an atomic bomb that accidentally detonated and wiped out everyone in this collection of trash. This is by far one of the worst movies I have ever seen, especially for something so highly praised.                                                                                                                                                                                                                                                                                                                                                                                                                                                                                                                                                                                                                                                                                                                                                                                                                                                                                                                                                                                                                                                                                                                                                                                                                                                                                                                                                                                                                                                                                                                                                                                                                                                                                                                                                                                                                                                                                                                                                                                                                                                                                                                                                                                                                                                                                                                                                                                                                                                                                                                                                                                                                                                                                                                                                                                                                                    |\n",
      "|tt1045658|Silver Linings Playbook|7.7         |This film is a quirky drama with an underlying comedic tone throughout starring Bradley Cooper as Pat Solatano and Jennifer Lawrence as Tiffany. Having been released from a brief stay at a psychiatric institution Pat moves in with his Parents in Philadelphia and he is bent on becoming a better person and staying rehabilitated - his primary motivation being to reconnect with his estranged wife who has a restraining order against him. Pat is determined to stay positive and look for the silver linings in his life despite many obstacles he faces in the wake of being incarcerated for beating a man nearly to death whom Pat caught his wife cheating with. Of the challenges he faces, the biggest ones are internal. Being diagnosed with bipolar disorder, Pat experiences sudden changes in mood. The fact that he refuses to take his prescribed medication only serves to make the problem worse.\\n\\nPat is obsessed with winning back his wife and is chasing the carrot that everyone around him is certain he can't catch. Like Pat, everyone has their own problems, but believing that a happy ending is possible is the one thing we need to get what we want out of life and most of the time the main obstacle is ourselves. This is a driving theme throughout this film much akin to the film Good Will Hunting (Damon & Affleck, 1997) where we see a character that gets in his own way and doesn't see true happiness at first though it is right in front of him.\\n\\nIn Pat's quest for self-betterment and winning back his wife's heart he meets Tiffany, who he quickly learns is just as dysfunctional as he is",
      "\n",
      "if not more. This common thread initiates a friendship that allows them to help each other understand their issues and deal with them better. As time goes on we see the development of a crush that Tiffany has on Pat that does not appear to be reciprocated, yet a friendship has begun. Though an attraction exist on Pat's part, he must decide which relationship is an illusion and which one has the silver lining he is looking for.\\n\\nThroughout the film we get acquainted with Pat's father, Pat Sr., and continue to get a deeper understanding of his love for the Philadelphia Eagles and his strong superstition. Pat Sr. is strongly convicted of the fact that his son is a good luck charm and consistently pressures Pat to watch the Eagles play under the guise of needing bonding time with his son. We see just how strong Pat Sr.'s superstition is when he begs Pat to watch the game with him at a time when Pat has a previous commitment with Tiffany, who is helping Pat become a more controlled person. Eventually, Pat Sr. learns that his superstition was an illusion and that even if had been real, he would have been lost a bet he hung his superstition on anyway.\\n\\nThis film shows us that we can be our own worst enemies. By believing that what we want is possible we can still end up with the result we want but a great deal of heartache can be avoided if we open our proverbial eyes and get out of our own way.                                                                                                                                                                                                                                                                                                                                                                                                                                                                                                                                                                                                                                                                                                                                                            |7            |We've All Got Issues                                                    |ronjanetzke        |We've All Got Issues : This film is a quirky drama with an underlying comedic tone throughout starring Bradley Cooper as Pat Solatano and Jennifer Lawrence as Tiffany. Having been released from a brief stay at a psychiatric institution Pat moves in with his Parents in Philadelphia and he is bent on becoming a better person and staying rehabilitated - his primary motivation being to reconnect with his estranged wife who has a restraining order against him. Pat is determined to stay positive and look for the silver linings in his life despite many obstacles he faces in the wake of being incarcerated for beating a man nearly to death whom Pat caught his wife cheating with. Of the challenges he faces, the biggest ones are internal. Being diagnosed with bipolar disorder, Pat experiences sudden changes in mood. The fact that he refuses to take his prescribed medication only serves to make the problem worse.\\n\\nPat is obsessed with winning back his wife and is chasing the carrot that everyone around him is certain he can't catch. Like Pat, everyone has their own problems, but believing that a happy ending is possible is the one thing we need to get what we want out of life and most of the time the main obstacle is ourselves. This is a driving theme throughout this film much akin to the film Good Will Hunting (Damon & Affleck, 1997) where we see a character that gets in his own way and doesn't see true happiness at first though it is right in front of him.\\n\\nIn Pat's quest for self-betterment and winning back his wife's heart he meets Tiffany, who he quickly learns is just as dysfunctional as he is",
      "\n",
      "if not more. This common thread initiates a friendship that allows them to help each other understand their issues and deal with them better. As time goes on we see the development of a crush that Tiffany has on Pat that does not appear to be reciprocated, yet a friendship has begun. Though an attraction exist on Pat's part, he must decide which relationship is an illusion and which one has the silver lining he is looking for.\\n\\nThroughout the film we get acquainted with Pat's father, Pat Sr., and continue to get a deeper understanding of his love for the Philadelphia Eagles and his strong superstition. Pat Sr. is strongly convicted of the fact that his son is a good luck charm and consistently pressures Pat to watch the Eagles play under the guise of needing bonding time with his son. We see just how strong Pat Sr.'s superstition is when he begs Pat to watch the game with him at a time when Pat has a previous commitment with Tiffany, who is helping Pat become a more controlled person. Eventually, Pat Sr. learns that his superstition was an illusion and that even if had been real, he would have been lost a bet he hung his superstition on anyway.\\n\\nThis film shows us that we can be our own worst enemies. By believing that what we want is possible we can still end up with the result we want but a great deal of heartache can be avoided if we open our proverbial eyes and get out of our own way.                                                                                                                                                                                                                                                                                                                                                                                                                                                                                                                                                                                                                                                                                                                                                                  |\n",
      "|tt1045658|Silver Linings Playbook|7.7         |SILVER LININGS PLAYBOOK is with BRADLEY COOPER which means that he is like part of the 'SERPICO' cast with credits for his actions.                                                                                                                                                                                                                                                                                                                                                                                                                                                                                                                                                                                                                                                                                                                                                                                                                                                                                                                                                                                                                                                                                                                                                                                                                                                                                                                                                                                                                                                                                                                                                                                                                                                                                                                                                                                                                                                                                                                                                                                                                                                                                                                                                                                                                                                                                                                                                                                                                                                                                                                                                                                                                                                                                                                                                                                                                                                                                                                                                                                                                                                                                                                                                                                                                                                                                                                                                                                                                                                                                                                                                                                                                                                                                                                                                            |10           |SILVER LININGS PLAYBOOK                                                 |arjunflamingfeather|SILVER LININGS PLAYBOOK : SILVER LININGS PLAYBOOK is with BRADLEY COOPER which means that he is like part of the 'SERPICO' cast with credits for his actions.                                                                                                                                                                                                                                                                                                                                                                                                                                                                                                                                                                                                                                                                                                                                                                                                                                                                                                                                                                                                                                                                                                                                                                                                                                                                                                                                                                                                                                                                                                                                                                                                                                                                                                                                                                                                                                                                                                                                                                                                                                                                                                                                                                                                                                                                                                                                                                                                                                                                                                                                                                                                                                                                                                                                                                                                                                                                                                                                                                                                                                                                                                                                                                                                                                                                                                                                                                                                                                                                                                                                                                                                                                                                                                                                                               |\n",
      "|tt1045658|Silver Linings Playbook|7.7         |This movie is great. Bradly Cooper, Jennifer Lawrence with Robert De Niro was perfect combination and their acting was top of their game. I don't enjoy much of Cooper's work but hat's off it was his best performance. I feel sorry for him that he was running against Daniel-Day-Luis but lot's off love. \"The only way you can beat my crazy was by doing something crazy yourself. Thank you. I love you. I knew it the minute I met you. I'm sorry it took so long for me to catch up. I just got stuck. \" - Pat Saltino.                                                                                                                                                                                                                                                                                                                                                                                                                                                                                                                                                                                                                                                                                                                                                                                                                                                                                                                                                                                                                                                                                                                                                                                                                                                                                                                                                                                                                                                                                                                                                                                                                                                                                                                                                                                                                                                                                                                                                                                                                                                                                                                                                                                                                                                                                                                                                                                                                                                                                                                                                                                                                                                                                                                                                                                                                                                                                                                                                                                                                                                                                                                                                                                                                                                                                                                                                               |10           |One of the best Romantic, Comedy movie I have ever seen.                |SalahuddinAhammad  |One of the best Romantic, Comedy movie I have ever seen. : This movie is great. Bradly Cooper, Jennifer Lawrence with Robert De Niro was perfect combination and their acting was top of their game. I don't enjoy much of Cooper's work but hat's off it was his best performance. I feel sorry for him that he was running against Daniel-Day-Luis but lot's off love. \"The only way you can beat my crazy was by doing something crazy yourself. Thank you. I love you. I knew it the minute I met you. I'm sorry it took so long for me to catch up. I just got stuck. \" - Pat Saltino.                                                                                                                                                                                                                                                                                                                                                                                                                                                                                                                                                                                                                                                                                                                                                                                                                                                                                                                                                                                                                                                                                                                                                                                                                                                                                                                                                                                                                                                                                                                                                                                                                                                                                                                                                                                                                                                                                                                                                                                                                                                                                                                                                                                                                                                                                                                                                                                                                                                                                                                                                                                                                                                                                                                                                                                                                                                                                                                                                                                                                                                                                                                                                                                                                                                                                                                                 |\n",
      "|tt1045658|Silver Linings Playbook|7.7         |Feels like the most standard movie. Good acting and production, decent screenplay. Some dialogues are the typical blah-blah, others are better and even a bit emotionally touching. Plot has some good moments.\\n\\nIf I'd had to place it between two movies in terms of rating, I'd put it above 'Carnage' with Christoph Waltz and slightly below 'La La Land' with Emma Stone, even if the genres are a bit different. Some people might even like it more than 'La La Land'. I don't know.\\n\\nI don't feel bad I watched 'Silver Linings Playbook', I liked it for most parts.                                                                                                                                                                                                                                                                                                                                                                                                                                                                                                                                                                                                                                                                                                                                                                                                                                                                                                                                                                                                                                                                                                                                                                                                                                                                                                                                                                                                                                                                                                                                                                                                                                                                                                                                                                                                                                                                                                                                                                                                                                                                                                                                                                                                                                                                                                                                                                                                                                                                                                                                                                                                                                                                                                                                                                                                                                                                                                                                                                                                                                                                                                                                                                                                                                                                                                             |7            |Pretty okay Drama, Romance, (Comedy) with mental illness as a main topic|mardalsfossen01    |Pretty okay Drama, Romance, (Comedy) with mental illness as a main topic : Feels like the most standard movie. Good acting and production, decent screenplay. Some dialogues are the typical blah-blah, others are better and even a bit emotionally touching. Plot has some good moments.\\n\\nIf I'd had to place it between two movies in terms of rating, I'd put it above 'Carnage' with Christoph Waltz and slightly below 'La La Land' with Emma Stone, even if the genres are a bit different. Some people might even like it more than 'La La Land'. I don't know.\\n\\nI don't feel bad I watched 'Silver Linings Playbook', I liked it for most parts.                                                                                                                                                                                                                                                                                                                                                                                                                                                                                                                                                                                                                                                                                                                                                                                                                                                                                                                                                                                                                                                                                                                                                                                                                                                                                                                                                                                                                                                                                                                                                                                                                                                                                                                                                                                                                                                                                                                                                                                                                                                                                                                                                                                                                                                                                                                                                                                                                                                                                                                                                                                                                                                                                                                                                                                                                                                                                                                                                                                                                                                                                                                                                                                                                                                               |\n",
      "|tt1045658|Silver Linings Playbook|7.7         |If a friend asked me what watching Silver Linings Playbook is like, I might say, 'It's a bit like watching a train wreck, filled with crazy people and served up as a dark rom-com slash drama.' However, for the purposes of this review, I'll be more politically correct and describe it as a film about people who care for each other while managing their respective mental illnesses. Bradley Cooper and Jennifer Lawrence both come off as a bit over-the-top angry and frantic, Robert DeNiro's character struggles with OCD, and others with smaller roles seem to struggle with mental health as well.\\n\\nWith most of the movie shot with a Steadicam, the resulting camera work gives the movie a low-budget feel. The shaky, unsteady shots add to the sense of chaos and frenetic instability, making it hard to look away even when it feels uncomfortable.\\n\\nIn terms of music, a great selection of licensed recordings are used, such as \"Girl from the North Country\" by Bob Dylan with Johnny Cash. However, the sparse use of an original non-diegetic score creates a quiet that makes each scene feel stark and somber.\\n\\nThe film's blend of dark humor, raw emotion, and intense portrayals of mental illness create a film that's hard to sit through. But, the biggest problem with this movie is the story which is generally weak and unsatisfying. That said, there is a silver lining: unlike many films in this category, this one does improve as it nears the end. So not a bad watch, after all.                                                                                                                                                                                                                                                                                                                                                                                                                                                                                                                                                                                                                                                                                                                                                                                                                                                                                                                                                                                                                                                                                                                                                                                                                                                                                                                                                                                                                                                                                                                                                                                                                                                                                                                                                                                                                                                                                                                                                                                                                                                                                                                                                                                                                                                                                                                                                         |6            |A stark portrayal of mental illness with a silver lining                |DarthWalker-34381  |A stark portrayal of mental illness with a silver lining : If a friend asked me what watching Silver Linings Playbook is like, I might say, 'It's a bit like watching a train wreck, filled with crazy people and served up as a dark rom-com slash drama.' However, for the purposes of this review, I'll be more politically correct and describe it as a film about people who care for each other while managing their respective mental illnesses. Bradley Cooper and Jennifer Lawrence both come off as a bit over-the-top angry and frantic, Robert DeNiro's character struggles with OCD, and others with smaller roles seem to struggle with mental health as well.\\n\\nWith most of the movie shot with a Steadicam, the resulting camera work gives the movie a low-budget feel. The shaky, unsteady shots add to the sense of chaos and frenetic instability, making it hard to look away even when it feels uncomfortable.\\n\\nIn terms of music, a great selection of licensed recordings are used, such as \"Girl from the North Country\" by Bob Dylan with Johnny Cash. However, the sparse use of an original non-diegetic score creates a quiet that makes each scene feel stark and somber.\\n\\nThe film's blend of dark humor, raw emotion, and intense portrayals of mental illness create a film that's hard to sit through. But, the biggest problem with this movie is the story which is generally weak and unsatisfying. That said, there is a silver lining: unlike many films in this category, this one does improve as it nears the end. So not a bad watch, after all.                                                                                                                                                                                                                                                                                                                                                                                                                                                                                                                                                                                                                                                                                                                                                                                                                                                                                                                                                                                                                                                                                                                                                                                                                                                                                                                                                                                                                                                                                                                                                                                                                                                                                                                                                                                                                                                                                                                                                                                                                                                                                                                                                                                                                                                                                                                           |\n",
      "|tt1045658|Silver Linings Playbook|7.7         |You instantly know that you are in trouble when the lead characters bond during discussion of psychotropic meds that they've been taking for their various mental disturbances. This is a new low in cute-meet, rom-coms. Since the main characters don't supply enough psychosis, there is the father with OCD for good measure. Maybe other people find mentally disturbed, erratic and violent characters a cute, but I don't.\\n\\nIt is hard to pinpoint whether Bradley Cooper's dreadful acting excesses were due to his lack of talent or, heaven-forbid, were exactly what the director wanted. In either case, I wanted to reach through the screen, grab him by the neck and tell him to shut up. As if this wasn't annoying enough, there was Robert De Niro's as his father to add two more forms of mental disturbance. He is an Eagle's fan and has OCD. Which is the worse mental illness is debatable, but enough is enough. There is hardly a quiet sane moment in the film. De Niro, by far the most overrated actor of the last 40 years, is his usual grumbling self. Since he said \"This is this\" in the Deer Hunter in 1978, he has been said every single line exactly the same. Jennifer Lawrence was the least annoying character, but she had her moments.\\n\\nYou can't help wonder why such a movie as bad as this gets such positive reviews. There is a apparently a large, devoted audience for maudlin, feel-good romances involving annoying people. As long as the couple ends up together, that seems to be all that matters. Steal a subplot from \"Shall We Dance\" for good measure and, voilà la, we have a winner.\\n\\nThere must be a strong self selection process in who goes to see such movies. The people who chose to see them are the kind of people to whom such sentimental trash appeals, so they are naturally likely to give it a good review. I saw it on an airplane for free because there nothing else but \"blow em up\" action and scifi movies and kid's stuff. Next time, I'll take a good book.                                                                                                                                                                                                                                                                                                                                                                                                                                                                                                                                                                                                                                                                                                                                                                                                                                                                                                                                                                                                                                                                                                                                                                                                                                                                                                                                                                                                                                                                                                                                                                                                                                                                                                                                                                                                                                         |1            |Proof That Ratings Are Meaningless                                      |sayloroct          |Proof That Ratings Are Meaningless : You instantly know that you are in trouble when the lead characters bond during discussion of psychotropic meds that they've been taking for their various mental disturbances. This is a new low in cute-meet, rom-coms. Since the main characters don't supply enough psychosis, there is the father with OCD for good measure. Maybe other people find mentally disturbed, erratic and violent characters a cute, but I don't.\\n\\nIt is hard to pinpoint whether Bradley Cooper's dreadful acting excesses were due to his lack of talent or, heaven-forbid, were exactly what the director wanted. In either case, I wanted to reach through the screen, grab him by the neck and tell him to shut up. As if this wasn't annoying enough, there was Robert De Niro's as his father to add two more forms of mental disturbance. He is an Eagle's fan and has OCD. Which is the worse mental illness is debatable, but enough is enough. There is hardly a quiet sane moment in the film. De Niro, by far the most overrated actor of the last 40 years, is his usual grumbling self. Since he said \"This is this\" in the Deer Hunter in 1978, he has been said every single line exactly the same. Jennifer Lawrence was the least annoying character, but she had her moments.\\n\\nYou can't help wonder why such a movie as bad as this gets such positive reviews. There is a apparently a large, devoted audience for maudlin, feel-good romances involving annoying people. As long as the couple ends up together, that seems to be all that matters. Steal a subplot from \"Shall We Dance\" for good measure and, voilà la, we have a winner.\\n\\nThere must be a strong self selection process in who goes to see such movies. The people who chose to see them are the kind of people to whom such sentimental trash appeals, so they are naturally likely to give it a good review. I saw it on an airplane for free because there nothing else but \"blow em up\" action and scifi movies and kid's stuff. Next time, I'll take a good book.                                                                                                                                                                                                                                                                                                                                                                                                                                                                                                                                                                                                                                                                                                                                                                                                                                                                                                                                                                                                                                                                                                                                                                                                                                                                                                                                                                                                                                                                                                                                                                                                                                                                                                                                                                                                                                 |\n",
      "|tt1895587|Spotlight              |8.1         |Wonderful! When the Globe did this, it made all us \"adult\" kids who knew about it screamed Hallelujah- even though our parents still didn't believe us. The movie does a fabulous job going behind the scenes and turning the paper's story into a gripping drama/not really a mystery...\\n\\nIn 8th grade my classmate killed himself because of Father Bernier. The Globe story put an end to his and others parish hopping. The movie reinforced it and got a few others. Any movie that puts pedophiles in jail gets 10 in my book!                                                                                                                                                                                                                                                                                                                                                                                                                                                                                                                                                                                                                                                                                                                                                                                                                                                                                                                                                                                                                                                                                                                                                                                                                                                                                                                                                                                                                                                                                                                                                                                                                                                                                                                                                                                                                                                                                                                                                                                                                                                                                                                                                                                                                                                                                                                                                                                                                                                                                                                                                                                                                                                                                                                                                                                                                                                                                                                                                                                                                                                                                                                                                                                                                                                                                                                                                         |10           |Excellent! My Fall River parish had Father Bernier...                   |gisele-2           |Excellent! My Fall River parish had Father Bernier... : Wonderful! When the Globe did this, it made all us \"adult\" kids who knew about it screamed Hallelujah- even though our parents still didn't believe us. The movie does a fabulous job going behind the scenes and turning the paper's story into a gripping drama/not really a mystery...\\n\\nIn 8th grade my classmate killed himself because of Father Bernier. The Globe story put an end to his and others parish hopping. The movie reinforced it and got a few others. Any movie that puts pedophiles in jail gets 10 in my book!                                                                                                                                                                                                                                                                                                                                                                                                                                                                                                                                                                                                                                                                                                                                                                                                                                                                                                                                                                                                                                                                                                                                                                                                                                                                                                                                                                                                                                                                                                                                                                                                                                                                                                                                                                                                                                                                                                                                                                                                                                                                                                                                                                                                                                                                                                                                                                                                                                                                                                                                                                                                                                                                                                                                                                                                                                                                                                                                                                                                                                                                                                                                                                                                                                                                                                                              |\n",
      "|tt0108052|Schindler's List       |9.0         |I liked it very much. Very heart touching story, awesome cinematography, everyone's acting were very good. Liam Neeson was just awesome.I really appreciate the effort of Oscar Schindler. The German army's cruelty was properly pictured in the movie.My rating 10 out of 10.                                                                                                                                                                                                                                                                                                                                                                                                                                                                                                                                                                                                                                                                                                                                                                                                                                                                                                                                                                                                                                                                                                                                                                                                                                                                                                                                                                                                                                                                                                                                                                                                                                                                                                                                                                                                                                                                                                                                                                                                                                                                                                                                                                                                                                                                                                                                                                                                                                                                                                                                                                                                                                                                                                                                                                                                                                                                                                                                                                                                                                                                                                                                                                                                                                                                                                                                                                                                                                                                                                                                                                                                                |10           |Most wonderful 2nd world war movies i have ever seen                    |nurchowdhuryhimel  |Most wonderful 2nd world war movies i have ever seen : I liked it very much. Very heart touching story, awesome cinematography, everyone's acting were very good. Liam Neeson was just awesome.I really appreciate the effort of Oscar Schindler. The German army's cruelty was properly pictured in the movie.My rating 10 out of 10.                                                                                                                                                                                                                                                                                                                                                                                                                                                                                                                                                                                                                                                                                                                                                                                                                                                                                                                                                                                                                                                                                                                                                                                                                                                                                                                                                                                                                                                                                                                                                                                                                                                                                                                                                                                                                                                                                                                                                                                                                                                                                                                                                                                                                                                                                                                                                                                                                                                                                                                                                                                                                                                                                                                                                                                                                                                                                                                                                                                                                                                                                                                                                                                                                                                                                                                                                                                                                                                                                                                                                                                      |\n",
      "|tt0108052|Schindler's List       |9.0         |One of the on living legendary pieces made ever, you could easily cry, it is one of the movies I discovered way later only realizing that not every one of the people working with the Germans was bad, there were a few good ones.\\n\\nAlso the dominant use of hard light in the film gave it the old 40's mood and vibe that made us feel as part of the people in that time.\\n\\nIt is also interesting how the director chose to high light the girl in red a color that stood out in black and really made it very powerful.\\n\\nIt was interesting to discover how good of an actor liam Neeson is given that time, because to be honest most people knew him from the film \"Taken\" at least for average movie watchers.                                                                                                                                                                                                                                                                                                                                                                                                                                                                                                                                                                                                                                                                                                                                                                                                                                                                                                                                                                                                                                                                                                                                                                                                                                                                                                                                                                                                                                                                                                                                                                                                                                                                                                                                                                                                                                                                                                                                                                                                                                                                                                                                                                                                                                                                                                                                                                                                                                                                                                                                                                                                                                                                                                                                                                                                                                                                                                                                                                                                                                                                                                                                                                   |10           |well done                                                               |HakimZziwa         |well done : One of the on living legendary pieces made ever, you could easily cry, it is one of the movies I discovered way later only realizing that not every one of the people working with the Germans was bad, there were a few good ones.\\n\\nAlso the dominant use of hard light in the film gave it the old 40's mood and vibe that made us feel as part of the people in that time.\\n\\nIt is also interesting how the director chose to high light the girl in red a color that stood out in black and really made it very powerful.\\n\\nIt was interesting to discover how good of an actor liam Neeson is given that time, because to be honest most people knew him from the film \"Taken\" at least for average movie watchers.                                                                                                                                                                                                                                                                                                                                                                                                                                                                                                                                                                                                                                                                                                                                                                                                                                                                                                                                                                                                                                                                                                                                                                                                                                                                                                                                                                                                                                                                                                                                                                                                                                                                                                                                                                                                                                                                                                                                                                                                                                                                                                                                                                                                                                                                                                                                                                                                                                                                                                                                                                                                                                                                                                                                                                                                                                                                                                                                                                                                                                                                                                                                                                                    |\n",
      "|tt0108052|Schindler's List       |9.0         |Schindler's List is not my favorite movie of all time, but it must be considered as one of (if not) the greatest films ever made. It starts slow and builds and builds. After five minutes it will not let you go until the end. The actors with the actual people they portrayed was a nice touch.\\n\\nThe girl in the red coat was a true master work. One single identifiable story amonst the fog of war and atrocity. It made the entire envent more personal and gripping.\\n\\nIf you have not seen it you must. At least once.                                                                                                                                                                                                                                                                                                                                                                                                                                                                                                                                                                                                                                                                                                                                                                                                                                                                                                                                                                                                                                                                                                                                                                                                                                                                                                                                                                                                                                                                                                                                                                                                                                                                                                                                                                                                                                                                                                                                                                                                                                                                                                                                                                                                                                                                                                                                                                                                                                                                                                                                                                                                                                                                                                                                                                                                                                                                                                                                                                                                                                                                                                                                                                                                                                                                                                                                                            |10           |Great, Great Movie                                                      |linuxboy           |Great, Great Movie : Schindler's List is not my favorite movie of all time, but it must be considered as one of (if not) the greatest films ever made. It starts slow and builds and builds. After five minutes it will not let you go until the end. The actors with the actual people they portrayed was a nice touch.\\n\\nThe girl in the red coat was a true master work. One single identifiable story amonst the fog of war and atrocity. It made the entire envent more personal and gripping.\\n\\nIf you have not seen it you must. At least once.                                                                                                                                                                                                                                                                                                                                                                                                                                                                                                                                                                                                                                                                                                                                                                                                                                                                                                                                                                                                                                                                                                                                                                                                                                                                                                                                                                                                                                                                                                                                                                                                                                                                                                                                                                                                                                                                                                                                                                                                                                                                                                                                                                                                                                                                                                                                                                                                                                                                                                                                                                                                                                                                                                                                                                                                                                                                                                                                                                                                                                                                                                                                                                                                                                                                                                                                                                    |\n",
      "|tt0369226|Alone in the Dark      |2.4         |If you like movies with a sci-fi paranormal theme and lots of action, this is for you. Well that the plot is somewhat weak and acting could be better, it is fairly entertaining.                                                                                                                                                                                                                                                                                                                                                                                                                                                                                                                                                                                                                                                                                                                                                                                                                                                                                                                                                                                                                                                                                                                                                                                                                                                                                                                                                                                                                                                                                                                                                                                                                                                                                                                                                                                                                                                                                                                                                                                                                                                                                                                                                                                                                                                                                                                                                                                                                                                                                                                                                                                                                                                                                                                                                                                                                                                                                                                                                                                                                                                                                                                                                                                                                                                                                                                                                                                                                                                                                                                                                                                                                                                                                                              |5            |Not bad entertainment value                                             |ralphwigzell       |Not bad entertainment value : If you like movies with a sci-fi paranormal theme and lots of action, this is for you. Well that the plot is somewhat weak and acting could be better, it is fairly entertaining.                                                                                                                                                                                                                                                                                                                                                                                                                                                                                                                                                                                                                                                                                                                                                                                                                                                                                                                                                                                                                                                                                                                                                                                                                                                                                                                                                                                                                                                                                                                                                                                                                                                                                                                                                                                                                                                                                                                                                                                                                                                                                                                                                                                                                                                                                                                                                                                                                                                                                                                                                                                                                                                                                                                                                                                                                                                                                                                                                                                                                                                                                                                                                                                                                                                                                                                                                                                                                                                                                                                                                                                                                                                                                                             |\n",
      "|tt0369226|Alone in the Dark      |2.4         |In the early 90's Atari was Atari, and Resident Evil a twinkle in Capcom's collective psyche. Alone in the Dark, however, having been developed by then upcoming French publisher Inforgrames, was already doing the rounds, busy inventing the third person, variable camera genre that one day would give gamers stuff from the various Res Ev titles to more contemporary efforts like Silent Hill, Devil May Cry and Onimusha.\\n\\nTherefore to see AITD's movie conversion owing so much to Resident Evil's big screen tenure struck one as deeply ironic. How did the tables turn so? It doesn't really matter, because at least for the first hour, director Uwe Boll's action flick kept its act together by providing solid, rollicking adventure fare with heaps more charm than the last RE entry ever mustered. The film displayed the same smooth execution we saw in Boll's 2004 video game interpretation, House of the Dead, and hopefully serves as harbinger of good news for his helming of another game-to-celluloid metamorphosis, coming attraction Far Cry.\\n\\nAnyway, AITD the movie had very little to do with its game namesake, since none of the original series' Call of Cthulu Gothic charm made its way through, neither did the misty, almost Victorian locales cross over in the transition. Chief protagonist Edward Carnby has returned, done by Christian Slater in a much needed chance at coming back into Hollywood's limelight-infused embrace. Slater gave a respectable go at doing Carnby, although he decidedly lacked any serious one liners, thus depriving Alone in the Dark serious merit. The producers, to our joy, chose to stick with an R rating by not cutting out the gore and good language, somewhat negating the effects of dry, choppy dialogue segments bereft any memorable moments.\\n\\nOther characters included archaeologist Aline (Tara Reid) and paranormal investigation Bureau 713 chief Burke Richards (Stephen Dorff). In the story, Carnby, himself employed as detective in all things unreal and spooky, just came back \"to town\" (Vancouver looking a bit too much like Raccoon City) bearing an ancient artifact from a long-lost civilization. Demented professor Hudgens (Matthew Walker) wanted the relic for his world domination scheme, of course, and since he and Carnby shared a sordid past, their paths soon crossed as a chase to get the item in question ensued, taking viewers to several locations. Bureau 713, led by Dorff, stepped in to save humanity from Hudgens' plans, and proceeded to engage armies of creatures known as Xenos in several quite impressive battle scenes as part of the overall plot progression.\\n\\nAITD looked and felt like a B movie most of the time, adding to its charm, assuming you're forgivingly inclined. Sure, the CGI wasn't up to major release standards, but such minor niggles became easy to ignore amid the film's overall enjoyable content and surprisingly absorbing action. Speaking of which, one had to note a significant amount of attention to detail went into crafting these combat elements, with good set and costume design.\\n\\nTowards the end things began to fall apart, sadly, and by minute 90 it had all reached a hasty and laughable conclusion, but even so, this one had that unique, shamelessly straight-to-video vibe, the one you perhaps remember longingly from defunct Dolf Lundgren releases and others featured on The Movie Channel's midweek late night schedule. Besides, it had a brief appearance by sultry Hong Kong vixen Francoise Yip (Black Mask), so who's complaining? Better suited to casual movie watchers than hardcore followers of the eponymous series, Alone in the Dark was a light-hearted mix of action and SF horror adequate for a quick caper fix and not too much beyond.\\n\\nRating: * * *|7            |Could Have Been Much Worse                                              |Adorable           |Could Have Been Much Worse : In the early 90's Atari was Atari, and Resident Evil a twinkle in Capcom's collective psyche. Alone in the Dark, however, having been developed by then upcoming French publisher Inforgrames, was already doing the rounds, busy inventing the third person, variable camera genre that one day would give gamers stuff from the various Res Ev titles to more contemporary efforts like Silent Hill, Devil May Cry and Onimusha.\\n\\nTherefore to see AITD's movie conversion owing so much to Resident Evil's big screen tenure struck one as deeply ironic. How did the tables turn so? It doesn't really matter, because at least for the first hour, director Uwe Boll's action flick kept its act together by providing solid, rollicking adventure fare with heaps more charm than the last RE entry ever mustered. The film displayed the same smooth execution we saw in Boll's 2004 video game interpretation, House of the Dead, and hopefully serves as harbinger of good news for his helming of another game-to-celluloid metamorphosis, coming attraction Far Cry.\\n\\nAnyway, AITD the movie had very little to do with its game namesake, since none of the original series' Call of Cthulu Gothic charm made its way through, neither did the misty, almost Victorian locales cross over in the transition. Chief protagonist Edward Carnby has returned, done by Christian Slater in a much needed chance at coming back into Hollywood's limelight-infused embrace. Slater gave a respectable go at doing Carnby, although he decidedly lacked any serious one liners, thus depriving Alone in the Dark serious merit. The producers, to our joy, chose to stick with an R rating by not cutting out the gore and good language, somewhat negating the effects of dry, choppy dialogue segments bereft any memorable moments.\\n\\nOther characters included archaeologist Aline (Tara Reid) and paranormal investigation Bureau 713 chief Burke Richards (Stephen Dorff). In the story, Carnby, himself employed as detective in all things unreal and spooky, just came back \"to town\" (Vancouver looking a bit too much like Raccoon City) bearing an ancient artifact from a long-lost civilization. Demented professor Hudgens (Matthew Walker) wanted the relic for his world domination scheme, of course, and since he and Carnby shared a sordid past, their paths soon crossed as a chase to get the item in question ensued, taking viewers to several locations. Bureau 713, led by Dorff, stepped in to save humanity from Hudgens' plans, and proceeded to engage armies of creatures known as Xenos in several quite impressive battle scenes as part of the overall plot progression.\\n\\nAITD looked and felt like a B movie most of the time, adding to its charm, assuming you're forgivingly inclined. Sure, the CGI wasn't up to major release standards, but such minor niggles became easy to ignore amid the film's overall enjoyable content and surprisingly absorbing action. Speaking of which, one had to note a significant amount of attention to detail went into crafting these combat elements, with good set and costume design.\\n\\nTowards the end things began to fall apart, sadly, and by minute 90 it had all reached a hasty and laughable conclusion, but even so, this one had that unique, shamelessly straight-to-video vibe, the one you perhaps remember longingly from defunct Dolf Lundgren releases and others featured on The Movie Channel's midweek late night schedule. Besides, it had a brief appearance by sultry Hong Kong vixen Francoise Yip (Black Mask), so who's complaining? Better suited to casual movie watchers than hardcore followers of the eponymous series, Alone in the Dark was a light-hearted mix of action and SF horror adequate for a quick caper fix and not too much beyond.\\n\\nRating: * * *|\n",
      "|tt0369226|Alone in the Dark      |2.4         |After renting Alone in the Dark, I expected to spend the next hour and a half watching exciting action with Christian Slater. I figured with Tara Reid also starring, the movie would have some sexiness with it. The movie was horrible from beginning to end. Slater narrates at the start but never explains what happen to him when he was a kid. Next Tara Reid tries to look intelligent with the scientist glasses which she can't play the part. There were so many unanswered questions that the movie did not answer. It needed to explain the professor better, the relationship between Reid and Slater, Slaters friend who pumps him information, etc. Of course the ending didn't make any sense. What happened. Everyone should do themselves a favor and stay away from this movie.                                                                                                                                                                                                                                                                                                                                                                                                                                                                                                                                                                                                                                                                                                                                                                                                                                                                                                                                                                                                                                                                                                                                                                                                                                                                                                                                                                                                                                                                                                                                                                                                                                                                                                                                                                                                                                                                                                                                                                                                                                                                                                                                                                                                                                                                                                                                                                                                                                                                                                                                                                                                                                                                                                                                                                                                                                                                                                                                                                                                                                                                                            |1            |Horrible                                                                |mcv905             |Horrible : After renting Alone in the Dark, I expected to spend the next hour and a half watching exciting action with Christian Slater. I figured with Tara Reid also starring, the movie would have some sexiness with it. The movie was horrible from beginning to end. Slater narrates at the start but never explains what happen to him when he was a kid. Next Tara Reid tries to look intelligent with the scientist glasses which she can't play the part. There were so many unanswered questions that the movie did not answer. It needed to explain the professor better, the relationship between Reid and Slater, Slaters friend who pumps him information, etc. Of course the ending didn't make any sense. What happened. Everyone should do themselves a favor and stay away from this movie.                                                                                                                                                                                                                                                                                                                                                                                                                                                                                                                                                                                                                                                                                                                                                                                                                                                                                                                                                                                                                                                                                                                                                                                                                                                                                                                                                                                                                                                                                                                                                                                                                                                                                                                                                                                                                                                                                                                                                                                                                                                                                                                                                                                                                                                                                                                                                                                                                                                                                                                                                                                                                                                                                                                                                                                                                                                                                                                                                                                                                                                                                                              |\n",
      "|tt0369226|Alone in the Dark      |2.4         |If you want a brilliant film based on a game look at Final Fantasy VII: Advent Children. DO NOT WATCH THIS HUNK OF CRAP!!!!!\\n\\nWhen I first heard about this film being made I was looking forward to it. I'd just played Alone In the Dark: A New Nightmare and was hyped up at seeing a film of it. And when I bought I immediately wanted to return it. It stays true to the games just as much a cigarette stays true to your health. Only the characters are what is similar. There's no spooky house on a remote island, instead we're in a city. We have a paranormal agency which doesn't exist in the games and the list just keeps going on an on. This director couldn't direct his way through a car wash let alone this film. The continuity, editing, music and general story were all done badly.\\n\\nIf a game/movie needed to be burned. It's this!                                                                                                                                                                                                                                                                                                                                                                                                                                                                                                                                                                                                                                                                                                                                                                                                                                                                                                                                                                                                                                                                                                                                                                                                                                                                                                                                                                                                                                                                                                                                                                                                                                                                                                                                                                                                                                                                                                                                                                                                                                                                                                                                                                                                                                                                                                                                                                                                                                                                                                                                                                                                                                                                                                                                                                                                                                                                                                                                                                                                                           |2            |And you thought Res Evil: Apocalyse was bad?                            |lostmercenary99    |And you thought Res Evil: Apocalyse was bad? : If you want a brilliant film based on a game look at Final Fantasy VII: Advent Children. DO NOT WATCH THIS HUNK OF CRAP!!!!!\\n\\nWhen I first heard about this film being made I was looking forward to it. I'd just played Alone In the Dark: A New Nightmare and was hyped up at seeing a film of it. And when I bought I immediately wanted to return it. It stays true to the games just as much a cigarette stays true to your health. Only the characters are what is similar. There's no spooky house on a remote island, instead we're in a city. We have a paranormal agency which doesn't exist in the games and the list just keeps going on an on. This director couldn't direct his way through a car wash let alone this film. The continuity, editing, music and general story were all done badly.\\n\\nIf a game/movie needed to be burned. It's this!                                                                                                                                                                                                                                                                                                                                                                                                                                                                                                                                                                                                                                                                                                                                                                                                                                                                                                                                                                                                                                                                                                                                                                                                                                                                                                                                                                                                                                                                                                                                                                                                                                                                                                                                                                                                                                                                                                                                                                                                                                                                                                                                                                                                                                                                                                                                                                                                                                                                                                                                                                                                                                                                                                                                                                                                                                                                                                                                                                                                         |\n",
      "+---------+-----------------------+------------+-----------------------------------------------------------------------------------------------------------------------------------------------------------------------------------------------------------------------------------------------------------------------------------------------------------------------------------------------------------------------------------------------------------------------------------------------------------------------------------------------------------------------------------------------------------------------------------------------------------------------------------------------------------------------------------------------------------------------------------------------------------------------------------------------------------------------------------------------------------------------------------------------------------------------------------------------------------------------------------------------------------------------------------------------------------------------------------------------------------------------------------------------------------------------------------------------------------------------------------------------------------------------------------------------------------------------------------------------------------------------------------------------------------------------------------------------------------------------------------------------------------------------------------------------------------------------------------------------------------------------------------------------------------------------------------------------------------------------------------------------------------------------------------------------------------------------------------------------------------------------------------------------------------------------------------------------------------------------------------------------------------------------------------------------------------------------------------------------------------------------------------------------------------------------------------------------------------------------------------------------------------------------------------------------------------------------------------------------------------------------------------------------------------------------------------------------------------------------------------------------------------------------------------------------------------------------------------------------------------------------------------------------------------------------------------------------------------------------------------------------------------------------------------------------------------------------------------------------------------------------------------------------------------------------------------------------------------------------------------------------------------------------------------------------------------------------------------------------------------------------------------------------------------------------------------------------------------------------------------------------------------------------------------------------------------------------------------------------------------------------------------------------------------------------------------------------------------------------------------------------------------------------------------------------------------------------------------------------------------------------------------------------------------------------------------------------------------------------------------------------------------------------------------------------------------------------------------------------------------------------------------------------+-------------+------------------------------------------------------------------------+-------------------+----------------------------------------------------------------------------------------------------------------------------------------------------------------------------------------------------------------------------------------------------------------------------------------------------------------------------------------------------------------------------------------------------------------------------------------------------------------------------------------------------------------------------------------------------------------------------------------------------------------------------------------------------------------------------------------------------------------------------------------------------------------------------------------------------------------------------------------------------------------------------------------------------------------------------------------------------------------------------------------------------------------------------------------------------------------------------------------------------------------------------------------------------------------------------------------------------------------------------------------------------------------------------------------------------------------------------------------------------------------------------------------------------------------------------------------------------------------------------------------------------------------------------------------------------------------------------------------------------------------------------------------------------------------------------------------------------------------------------------------------------------------------------------------------------------------------------------------------------------------------------------------------------------------------------------------------------------------------------------------------------------------------------------------------------------------------------------------------------------------------------------------------------------------------------------------------------------------------------------------------------------------------------------------------------------------------------------------------------------------------------------------------------------------------------------------------------------------------------------------------------------------------------------------------------------------------------------------------------------------------------------------------------------------------------------------------------------------------------------------------------------------------------------------------------------------------------------------------------------------------------------------------------------------------------------------------------------------------------------------------------------------------------------------------------------------------------------------------------------------------------------------------------------------------------------------------------------------------------------------------------------------------------------------------------------------------------------------------------------------------------------------------------------------------------------------------------------------------------------------------------------------------------------------------------------------------------------------------------------------------------------------------------------------------------------------------------------------------------------------------------------------------------------------------------------------------------------------------------------------------------------------------------------------------------+\n",
      "only showing top 20 rows\n",
      "\n"
     ]
    },
    {
     "name": "stderr",
     "output_type": "stream",
     "text": [
      "                                                                                \r"
     ]
    }
   ],
   "source": [
    "#df.show(truncate=False)"
   ]
  },
  {
   "cell_type": "code",
   "execution_count": 24,
   "metadata": {},
   "outputs": [
    {
     "name": "stderr",
     "output_type": "stream",
     "text": [
      "[Stage 30:=======================>                                 (7 + 8) / 17]\r"
     ]
    },
    {
     "name": "stdout",
     "output_type": "stream",
     "text": [
      "+-----------------------------------------------------------------------------------------------------------------------------------------------------------------------------------------------------------------------------------------------------------------------------------------------------------------------------------------------------------------------------------------------------------------------------------------------------------------------------------------------------------------------------------------------------------------------------------------------------------------------------------------------------------------------------------------------------------------------------------------------------------------------------------------------------------------------------------------------------------------------------------------------------------------------------------------------------------------------------------------------------------------------------------------------------------------------------------------------------------------------------------------------------------------------------------------------------------------------------------------------------------------------------------------------------------------------------------------------------------------------------------------------------------------------------------------------------------------------------------------------------------------------------------------------------------------------------------------------------------------------------------------------------------------------------------------------------------------------------------------------------------------------------------------------------------------------------------------------------------------------------------------------------------------------------------------------------------------------------------------------------------------+\n",
      "|Review                                                                                                                                                                                                                                                                                                                                                                                                                                                                                                                                                                                                                                                                                                                                                                                                                                                                                                                                                                                                                                                                                                                                                                                                                                                                                                                                                                                                                                                                                                                                                                                                                                                                                                                                                                                                                                                                                                                                                                                                           |\n",
      "+-----------------------------------------------------------------------------------------------------------------------------------------------------------------------------------------------------------------------------------------------------------------------------------------------------------------------------------------------------------------------------------------------------------------------------------------------------------------------------------------------------------------------------------------------------------------------------------------------------------------------------------------------------------------------------------------------------------------------------------------------------------------------------------------------------------------------------------------------------------------------------------------------------------------------------------------------------------------------------------------------------------------------------------------------------------------------------------------------------------------------------------------------------------------------------------------------------------------------------------------------------------------------------------------------------------------------------------------------------------------------------------------------------------------------------------------------------------------------------------------------------------------------------------------------------------------------------------------------------------------------------------------------------------------------------------------------------------------------------------------------------------------------------------------------------------------------------------------------------------------------------------------------------------------------------------------------------------------------------------------------------------------+\n",
      "|This ol' movie really ties the collection together. : Jeff Bridges is perfect as Jeff Lebowski, a.k.a. The Dude; he's an ageing, amiable slacker who doesn't do much with his time besides bowl. When he's mistaken for a rich man (David Huddleston) with the same name, he's hired by the rich man to deliver a ransom. Things go from bad to worse in a hurry, in large part because The Dude frequently involves his loud, abrasive buddy Walter (John Goodman), a crazed Vietnam vet, in his actions.\\n\\nIn terms of the overall Coen brothers filmography, this is relatively minor stuff. It goes on a little too long, and wasn't always terribly funny to this viewer. It also feels self-indulgent at times. And yet, Joel and Ethan here craft a twist-laden, elaborate story that does have some good moments, as well as a highly profane script and an eclectic soundtrack. (The Dude hates The Eagles, but is a big fan of CCR.) Its quotes certainly entered the public consciousness in a big way, with Bridges quickly becoming a pop culture icon in his role. \"Well, you know, that's just like your opinion, man.\"\\n\\nThe main reason it worked to any degree (at least for this viewer) was because of its impressive and well-chosen cast: Sam Elliott (as a friendly narrator), Julianne Moore, Steve Buscemi (as in \"Shut the *beep* up, Donny!\"), Philip Seymour Hoffman, Tara Reid, Peter Stormare, David Thewlis, Flea, Ben Gazzara, Jon Polito, etc. John Turturro is such a hoot as a bowler named Jesus that it's too bad that his screen time is so limited.\\n\\n\"The Big Lebowski\" is a truly character-driven comedy that does wrap up in a typically amusing way, and it shows that its main character can't just be dismissed as a non-thinking deadbeat; he knows when he's been used. It gave this viewer a conclusion that earned an honest smile, as Elliott breaks the fourth wall and comments on the nature of the yarn with which he's regaled us.\\n\\nSeven out of 10.|\n",
      "+-----------------------------------------------------------------------------------------------------------------------------------------------------------------------------------------------------------------------------------------------------------------------------------------------------------------------------------------------------------------------------------------------------------------------------------------------------------------------------------------------------------------------------------------------------------------------------------------------------------------------------------------------------------------------------------------------------------------------------------------------------------------------------------------------------------------------------------------------------------------------------------------------------------------------------------------------------------------------------------------------------------------------------------------------------------------------------------------------------------------------------------------------------------------------------------------------------------------------------------------------------------------------------------------------------------------------------------------------------------------------------------------------------------------------------------------------------------------------------------------------------------------------------------------------------------------------------------------------------------------------------------------------------------------------------------------------------------------------------------------------------------------------------------------------------------------------------------------------------------------------------------------------------------------------------------------------------------------------------------------------------------------+\n",
      "\n"
     ]
    },
    {
     "name": "stderr",
     "output_type": "stream",
     "text": [
      "                                                                                \r"
     ]
    }
   ],
   "source": [
    "df.select(\"Review\").limit(1).show(truncate=False)"
   ]
  },
  {
   "cell_type": "markdown",
   "metadata": {},
   "source": [
    "#### Adding NA for \"\""
   ]
  },
  {
   "cell_type": "code",
   "execution_count": 25,
   "metadata": {},
   "outputs": [],
   "source": [
    "df = df.select([when(col(c) == \"\", None).otherwise(col(c)).alias(c) for c in df.columns])"
   ]
  },
  {
   "cell_type": "markdown",
   "metadata": {},
   "source": [
    "#### Check for NA "
   ]
  },
  {
   "cell_type": "code",
   "execution_count": 26,
   "metadata": {},
   "outputs": [
    {
     "name": "stderr",
     "output_type": "stream",
     "text": [
      "[Stage 33:================================>                       (10 + 7) / 17]\r"
     ]
    },
    {
     "name": "stdout",
     "output_type": "stream",
     "text": [
      "+--------+----------+------------+--------------------+-------------+------------+---------------+------+\n",
      "|movie_id|movie_name|movie_rating|review_detailed_main|review_rating|review_title|review_username|Review|\n",
      "+--------+----------+------------+--------------------+-------------+------------+---------------+------+\n",
      "|       0|         0|           0|               23562|            0|           0|              0|     0|\n",
      "+--------+----------+------------+--------------------+-------------+------------+---------------+------+\n",
      "\n"
     ]
    },
    {
     "name": "stderr",
     "output_type": "stream",
     "text": [
      "                                                                                \r"
     ]
    }
   ],
   "source": [
    "df.select([sum(col(c).isNull().cast(\"int\")).alias(c) for c in df.columns]).show()"
   ]
  },
  {
   "cell_type": "markdown",
   "metadata": {},
   "source": [
    "#### Data Labelling"
   ]
  },
  {
   "cell_type": "code",
   "execution_count": 27,
   "metadata": {},
   "outputs": [],
   "source": [
    "df = df.withColumn(\n",
    "    \"sentiment\",\n",
    "    when(col(\"review_rating\") >= 8, \"Positive\")\n",
    "    .when(col(\"review_rating\") >= 5, \"Neutral\")\n",
    "    .when(col(\"review_rating\") < 5, \"Negative\")\n",
    "    .otherwise(None)\n",
    ")"
   ]
  },
  {
   "cell_type": "code",
   "execution_count": 29,
   "metadata": {},
   "outputs": [],
   "source": [
    "#df.show()"
   ]
  },
  {
   "cell_type": "code",
   "execution_count": 30,
   "metadata": {},
   "outputs": [],
   "source": [
    "df = df.select([when(col(c) == \"\", None).otherwise(col(c)).alias(c) for c in df.columns])"
   ]
  },
  {
   "cell_type": "code",
   "execution_count": 31,
   "metadata": {},
   "outputs": [
    {
     "name": "stderr",
     "output_type": "stream",
     "text": [
      "[Stage 42:==============================================>         (14 + 3) / 17]\r"
     ]
    },
    {
     "name": "stdout",
     "output_type": "stream",
     "text": [
      "+--------+----------+------------+--------------------+-------------+------------+---------------+------+---------+\n",
      "|movie_id|movie_name|movie_rating|review_detailed_main|review_rating|review_title|review_username|Review|sentiment|\n",
      "+--------+----------+------------+--------------------+-------------+------------+---------------+------+---------+\n",
      "|       0|         0|           0|               23562|            0|           0|              0|     0|        0|\n",
      "+--------+----------+------------+--------------------+-------------+------------+---------------+------+---------+\n",
      "\n"
     ]
    },
    {
     "name": "stderr",
     "output_type": "stream",
     "text": [
      "                                                                                \r"
     ]
    }
   ],
   "source": [
    "df.select([sum(col(c).isNull().cast(\"int\")).alias(c) for c in df.columns]).show()"
   ]
  },
  {
   "cell_type": "code",
   "execution_count": 32,
   "metadata": {},
   "outputs": [],
   "source": [
    "#df.show()"
   ]
  },
  {
   "cell_type": "markdown",
   "metadata": {},
   "source": [
    "#### Sentiment Wise Count"
   ]
  },
  {
   "cell_type": "code",
   "execution_count": 33,
   "metadata": {},
   "outputs": [
    {
     "name": "stderr",
     "output_type": "stream",
     "text": [
      "[Stage 48:==========================>                              (8 + 8) / 17]\r"
     ]
    },
    {
     "name": "stdout",
     "output_type": "stream",
     "text": [
      "+---------+-----+\n",
      "|sentiment|count|\n",
      "+---------+-----+\n",
      "|  Neutral|25714|\n",
      "| Positive|43100|\n",
      "| Negative|45681|\n",
      "+---------+-----+\n",
      "\n"
     ]
    },
    {
     "name": "stderr",
     "output_type": "stream",
     "text": [
      "                                                                                \r"
     ]
    }
   ],
   "source": [
    "df.groupBy(\"sentiment\").count().show()"
   ]
  },
  {
   "cell_type": "code",
   "execution_count": 34,
   "metadata": {},
   "outputs": [
    {
     "data": {
      "text/plain": [
       "['movie_id',\n",
       " 'movie_name',\n",
       " 'movie_rating',\n",
       " 'review_detailed_main',\n",
       " 'review_rating',\n",
       " 'review_title',\n",
       " 'review_username',\n",
       " 'Review',\n",
       " 'sentiment']"
      ]
     },
     "execution_count": 34,
     "metadata": {},
     "output_type": "execute_result"
    }
   ],
   "source": [
    "df.columns"
   ]
  },
  {
   "cell_type": "code",
   "execution_count": 35,
   "metadata": {},
   "outputs": [],
   "source": [
    "df = df.select(\"Review\", \"sentiment\")"
   ]
  },
  {
   "cell_type": "code",
   "execution_count": 36,
   "metadata": {},
   "outputs": [
    {
     "name": "stderr",
     "output_type": "stream",
     "text": [
      "[Stage 54:==========================>                              (8 + 8) / 17]\r"
     ]
    },
    {
     "name": "stdout",
     "output_type": "stream",
     "text": [
      "+------+---------+\n",
      "|Review|sentiment|\n",
      "+------+---------+\n",
      "|     0|        0|\n",
      "+------+---------+\n",
      "\n"
     ]
    },
    {
     "name": "stderr",
     "output_type": "stream",
     "text": [
      "                                                                                \r"
     ]
    }
   ],
   "source": [
    "df.select([sum(col(c).isNull().cast(\"int\")).alias(c) for c in df.columns]).show()"
   ]
  },
  {
   "cell_type": "code",
   "execution_count": 37,
   "metadata": {},
   "outputs": [
    {
     "name": "stderr",
     "output_type": "stream",
     "text": [
      "[Stage 60:=======================================>                (12 + 5) / 17]\r"
     ]
    },
    {
     "name": "stdout",
     "output_type": "stream",
     "text": [
      "+--------------------+---------+\n",
      "|              Review|sentiment|\n",
      "+--------------------+---------+\n",
      "|This ol' movie re...|  Neutral|\n",
      "|This movie is ama...| Positive|\n",
      "|25 years of hesit...|  Neutral|\n",
      "|My Fav-or-ite mov...| Positive|\n",
      "|Lightning in a Bo...| Positive|\n",
      "|Wow!!!! : I saw t...| Negative|\n",
      "|We've All Got Iss...|  Neutral|\n",
      "|SILVER LININGS PL...| Positive|\n",
      "|One of the best R...| Positive|\n",
      "|Pretty okay Drama...|  Neutral|\n",
      "|A stark portrayal...|  Neutral|\n",
      "|Proof That Rating...| Negative|\n",
      "|Excellent! My Fal...| Positive|\n",
      "|Most wonderful 2n...| Positive|\n",
      "|well done : One o...| Positive|\n",
      "|Great, Great Movi...| Positive|\n",
      "|Not bad entertain...|  Neutral|\n",
      "|Could Have Been M...|  Neutral|\n",
      "|Horrible : After ...| Negative|\n",
      "|And you thought R...| Negative|\n",
      "+--------------------+---------+\n",
      "only showing top 20 rows\n",
      "\n"
     ]
    },
    {
     "name": "stderr",
     "output_type": "stream",
     "text": [
      "                                                                                \r"
     ]
    }
   ],
   "source": [
    "df.show()"
   ]
  },
  {
   "cell_type": "code",
   "execution_count": 38,
   "metadata": {},
   "outputs": [
    {
     "name": "stderr",
     "output_type": "stream",
     "text": [
      "[Stage 63:==========================>                              (8 + 8) / 17]\r"
     ]
    },
    {
     "name": "stdout",
     "output_type": "stream",
     "text": [
      "+---------+-----+\n",
      "|sentiment|count|\n",
      "+---------+-----+\n",
      "|  Neutral|25714|\n",
      "| Positive|43100|\n",
      "| Negative|45681|\n",
      "+---------+-----+\n",
      "\n"
     ]
    },
    {
     "name": "stderr",
     "output_type": "stream",
     "text": [
      "                                                                                \r"
     ]
    }
   ],
   "source": [
    "df.groupBy(\"sentiment\").count().show()"
   ]
  },
  {
   "cell_type": "code",
   "execution_count": 39,
   "metadata": {},
   "outputs": [
    {
     "name": "stderr",
     "output_type": "stream",
     "text": [
      "[Stage 69:====================>                                    (6 + 8) / 17]\r"
     ]
    },
    {
     "name": "stdout",
     "output_type": "stream",
     "text": [
      "+--------------------+---------+\n",
      "|              Review|sentiment|\n",
      "+--------------------+---------+\n",
      "|This ol' movie re...|  Neutral|\n",
      "|This movie is ama...| Positive|\n",
      "|25 years of hesit...|  Neutral|\n",
      "|My Fav-or-ite mov...| Positive|\n",
      "|Lightning in a Bo...| Positive|\n",
      "|Wow!!!! : I saw t...| Negative|\n",
      "|We've All Got Iss...|  Neutral|\n",
      "|SILVER LININGS PL...| Positive|\n",
      "|One of the best R...| Positive|\n",
      "|Pretty okay Drama...|  Neutral|\n",
      "|A stark portrayal...|  Neutral|\n",
      "|Proof That Rating...| Negative|\n",
      "|Excellent! My Fal...| Positive|\n",
      "|Most wonderful 2n...| Positive|\n",
      "|well done : One o...| Positive|\n",
      "|Great, Great Movi...| Positive|\n",
      "|Not bad entertain...|  Neutral|\n",
      "|Could Have Been M...|  Neutral|\n",
      "|Horrible : After ...| Negative|\n",
      "|And you thought R...| Negative|\n",
      "+--------------------+---------+\n",
      "only showing top 20 rows\n",
      "\n"
     ]
    },
    {
     "name": "stderr",
     "output_type": "stream",
     "text": [
      "                                                                                \r"
     ]
    }
   ],
   "source": [
    "df.show()"
   ]
  },
  {
   "cell_type": "code",
   "execution_count": null,
   "metadata": {},
   "outputs": [],
   "source": []
  },
  {
   "cell_type": "markdown",
   "metadata": {},
   "source": [
    "### Import Libraries"
   ]
  },
  {
   "cell_type": "code",
   "execution_count": 11,
   "metadata": {},
   "outputs": [],
   "source": [
    "from pyspark.ml.feature import Tokenizer, StopWordsRemover, CountVectorizer, IDF, StringIndexer\n",
    "from pyspark.ml.classification import LogisticRegression\n",
    "from pyspark.ml.evaluation import MulticlassClassificationEvaluator\n",
    "from pyspark.sql.functions import lower, regexp_replace,udf, explode\n",
    "import nltk\n",
    "from nltk.corpus import stopwords\n",
    "from nltk.stem import WordNetLemmatizer"
   ]
  },
  {
   "cell_type": "code",
   "execution_count": 41,
   "metadata": {},
   "outputs": [],
   "source": [
    "df = df.withColumn(\"Review\", lower(col(\"Review\")))"
   ]
  },
  {
   "cell_type": "code",
   "execution_count": 42,
   "metadata": {},
   "outputs": [],
   "source": [
    "df = df.withColumn(\"Review\", regexp_replace(col(\"Review\"), \"[^a-zA-Z\\s]\", \"\"))"
   ]
  },
  {
   "cell_type": "code",
   "execution_count": 43,
   "metadata": {},
   "outputs": [
    {
     "name": "stderr",
     "output_type": "stream",
     "text": [
      "[Stage 72:=================================================>      (15 + 2) / 17]\r"
     ]
    },
    {
     "name": "stdout",
     "output_type": "stream",
     "text": [
      "+---------------------------------------------------------------------------------------------------------------------------------------------------------------------------------------------------------------------------------------------------------------------------------------------------------------------------------------------------------------------------------------------------------------------------------------------------------------------------------------------------------------------------------------------------------------------------------------------------------------------------------------------------------------------------------------------------------------------------------------------------------------------------------------------------------------------------------------------------------------------------------------------------------------------------------------------------------------------------------------------------------------------------------------------------------------------------------------------------------------------------------------------------------------------------------------------------------------------------------------------------------------------------------------------------------------------------------------------------------------------------------------------------------------------------------------------------------------------------------------------------------------------------------------------------------------------------------------------------------------------------------------------------------------------------------------------------------------------------------------------------------------------------------------------------------------------------------------------------------------------------------------------------------------------------------------------------------------------------------------------------------------------------------------------------------------------------------------------------------------------------------------------------------------------------------------------------------------------------------------------------------------------------------------------------------------------------------------------------------------------------------------------------------------------------------------------------------------------------------------------------------------------------------------------------------------------------------------------------------------------------------------------------------------------------------------------------------------------------------------------------------------------------------------------------------------------------------------------------------------------------------------------------------------------------------------------------------------------------------------------------------------------------------------------------------------------------------------------------+---------+\n",
      "|Review                                                                                                                                                                                                                                                                                                                                                                                                                                                                                                                                                                                                                                                                                                                                                                                                                                                                                                                                                                                                                                                                                                                                                                                                                                                                                                                                                                                                                                                                                                                                                                                                                                                                                                                                                                                                                                                                                                                                                                                                                                                                                                                                                                                                                                                                                                                                                                                                                                                                                                                                                                                                                                                                                                                                                                                                                                                                                                                                                                                                                                                                                             |sentiment|\n",
      "+---------------------------------------------------------------------------------------------------------------------------------------------------------------------------------------------------------------------------------------------------------------------------------------------------------------------------------------------------------------------------------------------------------------------------------------------------------------------------------------------------------------------------------------------------------------------------------------------------------------------------------------------------------------------------------------------------------------------------------------------------------------------------------------------------------------------------------------------------------------------------------------------------------------------------------------------------------------------------------------------------------------------------------------------------------------------------------------------------------------------------------------------------------------------------------------------------------------------------------------------------------------------------------------------------------------------------------------------------------------------------------------------------------------------------------------------------------------------------------------------------------------------------------------------------------------------------------------------------------------------------------------------------------------------------------------------------------------------------------------------------------------------------------------------------------------------------------------------------------------------------------------------------------------------------------------------------------------------------------------------------------------------------------------------------------------------------------------------------------------------------------------------------------------------------------------------------------------------------------------------------------------------------------------------------------------------------------------------------------------------------------------------------------------------------------------------------------------------------------------------------------------------------------------------------------------------------------------------------------------------------------------------------------------------------------------------------------------------------------------------------------------------------------------------------------------------------------------------------------------------------------------------------------------------------------------------------------------------------------------------------------------------------------------------------------------------------------------------------+---------+\n",
      "|this ol movie really ties the collection together  jeff bridges is perfect as jeff lebowski aka the dude hes an ageing amiable slacker who doesnt do much with his time besides bowl when hes mistaken for a rich man david huddleston with the same name hes hired by the rich man to deliver a ransom things go from bad to worse in a hurry in large part because the dude frequently involves his loud abrasive buddy walter john goodman a crazed vietnam vet in his actions\\n\\nin terms of the overall coen brothers filmography this is relatively minor stuff it goes on a little too long and wasnt always terribly funny to this viewer it also feels selfindulgent at times and yet joel and ethan here craft a twistladen elaborate story that does have some good moments as well as a highly profane script and an eclectic soundtrack the dude hates the eagles but is a big fan of ccr its quotes certainly entered the public consciousness in a big way with bridges quickly becoming a pop culture icon in his role well you know thats just like your opinion man\\n\\nthe main reason it worked to any degree at least for this viewer was because of its impressive and wellchosen cast sam elliott as a friendly narrator julianne moore steve buscemi as in shut the beep up donny philip seymour hoffman tara reid peter stormare david thewlis flea ben gazzara jon polito etc john turturro is such a hoot as a bowler named jesus that its too bad that his screen time is so limited\\n\\nthe big lebowski is a truly characterdriven comedy that does wrap up in a typically amusing way and it shows that its main character cant just be dismissed as a nonthinking deadbeat he knows when hes been used it gave this viewer a conclusion that earned an honest smile as elliott breaks the fourth wall and comments on the nature of the yarn with which hes regaled us\\n\\nseven out of                                                                                                                                                                                                                                                                                                                                                                                                                                                                                                                                                                                                                                                                                                                                                                                                                                                                                                                                                                                                                                                                                                                                                                               |Neutral  |\n",
      "|this movie is amazingtruly a masterpiece  detailed in every scene rich characterization diverse soundtrack witty real life dialogue this movie is god i feel that it takes a lot from a movie to make me leave with a sense of satiation but this movie does it for me wonderfully written and directed by the coen brothers it is yet another masterpiece from them another thing is that this movie never tries to be funny it doesnt have random quirky characters or punch lines it all comes from the scenes very naturally  out of  and how cool is the scene when the sheriff throws and hits the dude in the forehead with the mug and the mug doesnt turn while its in the air so many great scenes                                                                                                                                                                                                                                                                                                                                                                                                                                                                                                                                                                                                                                                                                                                                                                                                                                                                                                                                                                                                                                                                                                                                                                                                                                                                                                                                                                                                                                                                                                                                                                                                                                                                                                                                                                                                                                                                                                                                                                                                                                                                                                                                                                                                                                                                                                                                                                                       |Positive |\n",
      "| years of hesitating i should have trusted my gut  finally or unfortunately i took almost  hours of my life to watch this renowned comedy masterpiece\\n\\napparently i belong to that handful of people who organically dislike the dude and its story\\n\\nthe story felt lazy boring unfunny and simplistically put stupid i had to take a brake for a day or two at least  times i really hoped it will all make sense in the end but no everything keept on circling around being a looser hanging with similar people wasting your time smoking weed and looking for conspiracy theories\\n\\nin conclusion back in the s we called that trash comedy and if you like it than be my guest and watch it asap  otherwise take a walk and get some fresh air                                                                                                                                                                                                                                                                                                                                                                                                                                                                                                                                                                                                                                                                                                                                                                                                                                                                                                                                                                                                                                                                                                                                                                                                                                                                                                                                                                                                                                                                                                                                                                                                                                                                                                                                                                                                                                                                                                                                                                                                                                                                                                                                                                                                                                                                                                                                          |Neutral  |\n",
      "|my favorite movie  the story is hard to follow and some characters just appear for no reason but the big lebowski is still my favorite movie the story makes more sense if you watch the movie ten times or so the characters in the movie are the most entertaining i have ever seen and make the movie worth watching as much as possible john goodmans performance alone is worth seeing the movie ten times to understand the story                                                                                                                                                                                                                                                                                                                                                                                                                                                                                                                                                                                                                                                                                                                                                                                                                                                                                                                                                                                                                                                                                                                                                                                                                                                                                                                                                                                                                                                                                                                                                                                                                                                                                                                                                                                                                                                                                                                                                                                                                                                                                                                                                                                                                                                                                                                                                                                                                                                                                                                                                                                                                                                            |Positive |\n",
      "|lightning in a bottle  so original it comes off like an experimentational movie but one that catches fire with absolutely brilliant writing dialogue and character creation in addition to alltime standout performances by every single actor which means the directing was also superb\\n\\nsome people may still question what its about because for the most part we have four different stories converging at various coordinates in a timeline loop that do not clearly have a meaning as to why other than to just have creative fun with the way its told\\n\\nyou have a philosophizing bible thumping hitman samuel l jackson finding his path to salvation and restored faith and theism while participating in the events that comprise the movie this movie is perfect in so many scenes with only a few weak parts its loaded with memorable lines and it was meticulously cared for into every last detail including the music and what dance moves characters should have in addition to the outrageously brilliant screenplay that somehow never slips over the top\\n\\ntarantino still hasnt even come close to this lightning in a bottle masterpiece                                                                                                                                                                                                                                                                                                                                                                                                                                                                                                                                                                                                                                                                                                                                                                                                                                                                                                                                                                                                                                                                                                                                                                                                                                                                                                                                                                                                                                                                                                                                                                                                                                                                                                                                                                                                                                                                                                                                |Positive |\n",
      "|wow  i saw this in the theater with my girlfriend because she had seen it with some friends and said it was so good i made it through the whole thing somehow and as we were walking through the parking lot i just started thinking that this movie has sucked over  hours of life from me and ill never get it back i honestly felt dumber for watching the whole thing there is nothing good about this movie except a couple of members of the cast not travolta nor thurman and their ability was limited due to the awful script there is nothing groundbreaking about this movie the dialog is boring the characters have no depth it seems like it was made on a  hour deadline and they had plenty of spare time to go back and add an f word anywhere there was a space i wouldnt have cared less if tarantino had had another character that built an atomic bomb that accidentally detonated and wiped out everyone in this collection of trash this is by far one of the worst movies i have ever seen especially for something so highly praised                                                                                                                                                                                                                                                                                                                                                                                                                                                                                                                                                                                                                                                                                                                                                                                                                                                                                                                                                                                                                                                                                                                                                                                                                                                                                                                                                                                                                                                                                                                                                                                                                                                                                                                                                                                                                                                                                                                                                                                                                                     |Negative |\n",
      "|weve all got issues  this film is a quirky drama with an underlying comedic tone throughout starring bradley cooper as pat solatano and jennifer lawrence as tiffany having been released from a brief stay at a psychiatric institution pat moves in with his parents in philadelphia and he is bent on becoming a better person and staying rehabilitated  his primary motivation being to reconnect with his estranged wife who has a restraining order against him pat is determined to stay positive and look for the silver linings in his life despite many obstacles he faces in the wake of being incarcerated for beating a man nearly to death whom pat caught his wife cheating with of the challenges he faces the biggest ones are internal being diagnosed with bipolar disorder pat experiences sudden changes in mood the fact that he refuses to take his prescribed medication only serves to make the problem worse\\n\\npat is obsessed with winning back his wife and is chasing the carrot that everyone around him is certain he cant catch like pat everyone has their own problems but believing that a happy ending is possible is the one thing we need to get what we want out of life and most of the time the main obstacle is ourselves this is a driving theme throughout this film much akin to the film good will hunting damon  affleck  where we see a character that gets in his own way and doesnt see true happiness at first though it is right in front of him\\n\\nin pats quest for selfbetterment and winning back his wifes heart he meets tiffany who he quickly learns is just as dysfunctional as he isif not more this common thread initiates a friendship that allows them to help each other understand their issues and deal with them better as time goes on we see the development of a crush that tiffany has on pat that does not appear to be reciprocated yet a friendship has begun though an attraction exist on pats part he must decide which relationship is an illusion and which one has the silver lining he is looking for\\n\\nthroughout the film we get acquainted with pats father pat sr and continue to get a deeper understanding of his love for the philadelphia eagles and his strong superstition pat sr is strongly convicted of the fact that his son is a good luck charm and consistently pressures pat to watch the eagles play under the guise of needing bonding time with his son we see just how strong pat srs superstition is when he begs pat to watch the game with him at a time when pat has a previous commitment with tiffany who is helping pat become a more controlled person eventually pat sr learns that his superstition was an illusion and that even if had been real he would have been lost a bet he hung his superstition on anyway\\n\\nthis film shows us that we can be our own worst enemies by believing that what we want is possible we can still end up with the result we want but a great deal of heartache can be avoided if we open our proverbial eyes and get out of our own way|Neutral  |\n",
      "|silver linings playbook  silver linings playbook is with bradley cooper which means that he is like part of the serpico cast with credits for his actions                                                                                                                                                                                                                                                                                                                                                                                                                                                                                                                                                                                                                                                                                                                                                                                                                                                                                                                                                                                                                                                                                                                                                                                                                                                                                                                                                                                                                                                                                                                                                                                                                                                                                                                                                                                                                                                                                                                                                                                                                                                                                                                                                                                                                                                                                                                                                                                                                                                                                                                                                                                                                                                                                                                                                                                                                                                                                                                                          |Positive |\n",
      "|one of the best romantic comedy movie i have ever seen  this movie is great bradly cooper jennifer lawrence with robert de niro was perfect combination and their acting was top of their game i dont enjoy much of coopers work but hats off it was his best performance i feel sorry for him that he was running against danieldayluis but lots off love the only way you can beat my crazy was by doing something crazy yourself thank you i love you i knew it the minute i met you im sorry it took so long for me to catch up i just got stuck   pat saltino                                                                                                                                                                                                                                                                                                                                                                                                                                                                                                                                                                                                                                                                                                                                                                                                                                                                                                                                                                                                                                                                                                                                                                                                                                                                                                                                                                                                                                                                                                                                                                                                                                                                                                                                                                                                                                                                                                                                                                                                                                                                                                                                                                                                                                                                                                                                                                                                                                                                                                                                 |Positive |\n",
      "|pretty okay drama romance comedy with mental illness as a main topic  feels like the most standard movie good acting and production decent screenplay some dialogues are the typical blahblah others are better and even a bit emotionally touching plot has some good moments\\n\\nif id had to place it between two movies in terms of rating id put it above carnage with christoph waltz and slightly below la la land with emma stone even if the genres are a bit different some people might even like it more than la la land i dont know\\n\\ni dont feel bad i watched silver linings playbook i liked it for most parts                                                                                                                                                                                                                                                                                                                                                                                                                                                                                                                                                                                                                                                                                                                                                                                                                                                                                                                                                                                                                                                                                                                                                                                                                                                                                                                                                                                                                                                                                                                                                                                                                                                                                                                                                                                                                                                                                                                                                                                                                                                                                                                                                                                                                                                                                                                                                                                                                                                                     |Neutral  |\n",
      "+---------------------------------------------------------------------------------------------------------------------------------------------------------------------------------------------------------------------------------------------------------------------------------------------------------------------------------------------------------------------------------------------------------------------------------------------------------------------------------------------------------------------------------------------------------------------------------------------------------------------------------------------------------------------------------------------------------------------------------------------------------------------------------------------------------------------------------------------------------------------------------------------------------------------------------------------------------------------------------------------------------------------------------------------------------------------------------------------------------------------------------------------------------------------------------------------------------------------------------------------------------------------------------------------------------------------------------------------------------------------------------------------------------------------------------------------------------------------------------------------------------------------------------------------------------------------------------------------------------------------------------------------------------------------------------------------------------------------------------------------------------------------------------------------------------------------------------------------------------------------------------------------------------------------------------------------------------------------------------------------------------------------------------------------------------------------------------------------------------------------------------------------------------------------------------------------------------------------------------------------------------------------------------------------------------------------------------------------------------------------------------------------------------------------------------------------------------------------------------------------------------------------------------------------------------------------------------------------------------------------------------------------------------------------------------------------------------------------------------------------------------------------------------------------------------------------------------------------------------------------------------------------------------------------------------------------------------------------------------------------------------------------------------------------------------------------------------------------------+---------+\n",
      "only showing top 10 rows\n",
      "\n"
     ]
    },
    {
     "name": "stderr",
     "output_type": "stream",
     "text": [
      "                                                                                \r"
     ]
    }
   ],
   "source": [
    "df.show(truncate=False,n=10)"
   ]
  },
  {
   "cell_type": "markdown",
   "metadata": {},
   "source": [
    "### Tokenization"
   ]
  },
  {
   "cell_type": "code",
   "execution_count": 44,
   "metadata": {},
   "outputs": [],
   "source": [
    "tokenizer = Tokenizer(inputCol=\"Review\", outputCol=\"words\")\n",
    "df_tokens = tokenizer.transform(df)"
   ]
  },
  {
   "cell_type": "markdown",
   "metadata": {},
   "source": [
    "### Removing Stopwords"
   ]
  },
  {
   "cell_type": "code",
   "execution_count": 45,
   "metadata": {},
   "outputs": [],
   "source": [
    "stopwords_list = stopwords.words(\"english\")\n",
    "remover = StopWordsRemover(inputCol=\"words\", outputCol=\"filtered_words\", stopWords = stopwords_list)\n",
    "df_filtered = remover.transform(df_tokens)"
   ]
  },
  {
   "cell_type": "code",
   "execution_count": null,
   "metadata": {},
   "outputs": [
    {
     "name": "stderr",
     "output_type": "stream",
     "text": [
      "[Stage 81:=======================>                                 (7 + 8) / 17]\r"
     ]
    },
    {
     "name": "stdout",
     "output_type": "stream",
     "text": [
      "+--------------------+---------+--------------------+--------------------+\n",
      "|              Review|sentiment|               words|      filtered_words|\n",
      "+--------------------+---------+--------------------+--------------------+\n",
      "|this ol movie rea...|  Neutral|[this, ol, movie,...|[ol, movie, reall...|\n",
      "|this movie is ama...| Positive|[this, movie, is,...|[movie, amazingtr...|\n",
      "| years of hesitat...|  Neutral|[, years, of, hes...|[, years, hesitat...|\n",
      "|my favorite movie...| Positive|[my, favorite, mo...|[favorite, movie,...|\n",
      "|lightning in a bo...| Positive|[lightning, in, a...|[lightning, bottl...|\n",
      "|wow  i saw this i...| Negative|[wow, , i, saw, t...|[wow, , saw, thea...|\n",
      "|weve all got issu...|  Neutral|[weve, all, got, ...|[weve, got, issue...|\n",
      "|silver linings pl...| Positive|[silver, linings,...|[silver, linings,...|\n",
      "|one of the best r...| Positive|[one, of, the, be...|[one, best, roman...|\n",
      "|pretty okay drama...|  Neutral|[pretty, okay, dr...|[pretty, okay, dr...|\n",
      "|a stark portrayal...|  Neutral|[a, stark, portra...|[stark, portrayal...|\n",
      "|proof that rating...| Negative|[proof, that, rat...|[proof, ratings, ...|\n",
      "|excellent my fall...| Positive|[excellent, my, f...|[excellent, fall,...|\n",
      "|most wonderful nd...| Positive|[most, wonderful,...|[wonderful, nd, w...|\n",
      "|well done  one of...| Positive|[well, done, , on...|[well, done, , on...|\n",
      "|great great movie...| Positive|[great, great, mo...|[great, great, mo...|\n",
      "|not bad entertain...|  Neutral|[not, bad, entert...|[bad, entertainme...|\n",
      "|could have been m...|  Neutral|[could, have, bee...|[could, much, wor...|\n",
      "|horrible  after r...| Negative|[horrible, , afte...|[horrible, , rent...|\n",
      "|and you thought r...| Negative|[and, you, though...|[thought, res, ev...|\n",
      "+--------------------+---------+--------------------+--------------------+\n",
      "only showing top 20 rows\n",
      "\n"
     ]
    },
    {
     "name": "stderr",
     "output_type": "stream",
     "text": [
      "                                                                                \r"
     ]
    }
   ],
   "source": [
    "#df_filtered.show()"
   ]
  },
  {
   "cell_type": "markdown",
   "metadata": {},
   "source": [
    "### Lemmatization"
   ]
  },
  {
   "cell_type": "code",
   "execution_count": 46,
   "metadata": {},
   "outputs": [],
   "source": [
    "from pyspark.sql.types import ArrayType, StringType\n",
    "lemmatizer = WordNetLemmatizer()\n",
    "lemmatize_udf = udf(lambda words: [lemmatizer.lemmatize(word) for word in words], ArrayType(StringType()))"
   ]
  },
  {
   "cell_type": "code",
   "execution_count": null,
   "metadata": {},
   "outputs": [
    {
     "name": "stdout",
     "output_type": "stream",
     "text": [
      "+--------------------+---------+--------------------+--------------------+\n",
      "|              Review|sentiment|               words|      filtered_words|\n",
      "+--------------------+---------+--------------------+--------------------+\n",
      "|this ol movie rea...|  Neutral|[this, ol, movie,...|[ol, movie, reall...|\n",
      "|this movie is ama...| Positive|[this, movie, is,...|[movie, amazingtr...|\n",
      "| years of hesitat...|  Neutral|[, years, of, hes...|[, years, hesitat...|\n",
      "|my favorite movie...| Positive|[my, favorite, mo...|[favorite, movie,...|\n",
      "|lightning in a bo...| Positive|[lightning, in, a...|[lightning, bottl...|\n",
      "|wow  i saw this i...| Negative|[wow, , i, saw, t...|[wow, , saw, thea...|\n",
      "|weve all got issu...|  Neutral|[weve, all, got, ...|[weve, got, issue...|\n",
      "|silver linings pl...| Positive|[silver, linings,...|[silver, linings,...|\n",
      "|one of the best r...| Positive|[one, of, the, be...|[one, best, roman...|\n",
      "|pretty okay drama...|  Neutral|[pretty, okay, dr...|[pretty, okay, dr...|\n",
      "|a stark portrayal...|  Neutral|[a, stark, portra...|[stark, portrayal...|\n",
      "|proof that rating...| Negative|[proof, that, rat...|[proof, ratings, ...|\n",
      "|excellent my fall...| Positive|[excellent, my, f...|[excellent, fall,...|\n",
      "|most wonderful nd...| Positive|[most, wonderful,...|[wonderful, nd, w...|\n",
      "|well done  one of...| Positive|[well, done, , on...|[well, done, , on...|\n",
      "|great great movie...| Positive|[great, great, mo...|[great, great, mo...|\n",
      "|not bad entertain...|  Neutral|[not, bad, entert...|[bad, entertainme...|\n",
      "|could have been m...|  Neutral|[could, have, bee...|[could, much, wor...|\n",
      "|horrible  after r...| Negative|[horrible, , afte...|[horrible, , rent...|\n",
      "|and you thought r...| Negative|[and, you, though...|[thought, res, ev...|\n",
      "+--------------------+---------+--------------------+--------------------+\n",
      "only showing top 20 rows\n",
      "\n"
     ]
    }
   ],
   "source": [
    "#df_filtered.show()"
   ]
  },
  {
   "cell_type": "code",
   "execution_count": 47,
   "metadata": {},
   "outputs": [
    {
     "name": "stdout",
     "output_type": "stream",
     "text": [
      "root\n",
      " |-- Review: string (nullable = true)\n",
      " |-- sentiment: string (nullable = true)\n",
      " |-- words: array (nullable = true)\n",
      " |    |-- element: string (containsNull = true)\n",
      " |-- filtered_words: array (nullable = true)\n",
      " |    |-- element: string (containsNull = true)\n",
      "\n"
     ]
    }
   ],
   "source": [
    "df_filtered.printSchema()"
   ]
  },
  {
   "cell_type": "code",
   "execution_count": 48,
   "metadata": {},
   "outputs": [],
   "source": [
    "df_lemmatized = df_filtered.withColumn(\"filtered_words_lem\", lemmatize_udf(col(\"filtered_words\")))"
   ]
  },
  {
   "cell_type": "code",
   "execution_count": null,
   "metadata": {},
   "outputs": [
    {
     "name": "stderr",
     "output_type": "stream",
     "text": [
      "[Stage 89:>                                                         (0 + 1) / 1]\r"
     ]
    },
    {
     "name": "stdout",
     "output_type": "stream",
     "text": [
      "+--------------------+---------+--------------------+--------------------+--------------------+\n",
      "|              Review|sentiment|               words|      filtered_words|  filtered_words_lem|\n",
      "+--------------------+---------+--------------------+--------------------+--------------------+\n",
      "|this ol movie rea...|  Neutral|[this, ol, movie,...|[ol, movie, reall...|[ol, movie, reall...|\n",
      "|this movie is ama...| Positive|[this, movie, is,...|[movie, amazingtr...|[movie, amazingtr...|\n",
      "| years of hesitat...|  Neutral|[, years, of, hes...|[, years, hesitat...|[, year, hesitati...|\n",
      "|my favorite movie...| Positive|[my, favorite, mo...|[favorite, movie,...|[favorite, movie,...|\n",
      "|lightning in a bo...| Positive|[lightning, in, a...|[lightning, bottl...|[lightning, bottl...|\n",
      "|wow  i saw this i...| Negative|[wow, , i, saw, t...|[wow, , saw, thea...|[wow, , saw, thea...|\n",
      "|weve all got issu...|  Neutral|[weve, all, got, ...|[weve, got, issue...|[weve, got, issue...|\n",
      "|silver linings pl...| Positive|[silver, linings,...|[silver, linings,...|[silver, lining, ...|\n",
      "|one of the best r...| Positive|[one, of, the, be...|[one, best, roman...|[one, best, roman...|\n",
      "|pretty okay drama...|  Neutral|[pretty, okay, dr...|[pretty, okay, dr...|[pretty, okay, dr...|\n",
      "|a stark portrayal...|  Neutral|[a, stark, portra...|[stark, portrayal...|[stark, portrayal...|\n",
      "|proof that rating...| Negative|[proof, that, rat...|[proof, ratings, ...|[proof, rating, m...|\n",
      "|excellent my fall...| Positive|[excellent, my, f...|[excellent, fall,...|[excellent, fall,...|\n",
      "|most wonderful nd...| Positive|[most, wonderful,...|[wonderful, nd, w...|[wonderful, nd, w...|\n",
      "|well done  one of...| Positive|[well, done, , on...|[well, done, , on...|[well, done, , on...|\n",
      "|great great movie...| Positive|[great, great, mo...|[great, great, mo...|[great, great, mo...|\n",
      "|not bad entertain...|  Neutral|[not, bad, entert...|[bad, entertainme...|[bad, entertainme...|\n",
      "|could have been m...|  Neutral|[could, have, bee...|[could, much, wor...|[could, much, wor...|\n",
      "|horrible  after r...| Negative|[horrible, , afte...|[horrible, , rent...|[horrible, , rent...|\n",
      "|and you thought r...| Negative|[and, you, though...|[thought, res, ev...|[thought, re, evi...|\n",
      "+--------------------+---------+--------------------+--------------------+--------------------+\n",
      "only showing top 20 rows\n",
      "\n"
     ]
    },
    {
     "name": "stderr",
     "output_type": "stream",
     "text": [
      "                                                                                \r"
     ]
    }
   ],
   "source": [
    "#df_lemmatized.show()"
   ]
  },
  {
   "cell_type": "code",
   "execution_count": 49,
   "metadata": {},
   "outputs": [
    {
     "name": "stdout",
     "output_type": "stream",
     "text": [
      "root\n",
      " |-- Review: string (nullable = true)\n",
      " |-- sentiment: string (nullable = true)\n",
      " |-- words: array (nullable = true)\n",
      " |    |-- element: string (containsNull = true)\n",
      " |-- filtered_words: array (nullable = true)\n",
      " |    |-- element: string (containsNull = true)\n",
      " |-- filtered_words_lem: array (nullable = true)\n",
      " |    |-- element: string (containsNull = true)\n",
      "\n"
     ]
    }
   ],
   "source": [
    "df_lemmatized.printSchema()"
   ]
  },
  {
   "cell_type": "code",
   "execution_count": 50,
   "metadata": {},
   "outputs": [
    {
     "name": "stderr",
     "output_type": "stream",
     "text": [
      "                                                                                \r"
     ]
    }
   ],
   "source": [
    "df_lemmatized.write.mode(\"overwrite\").parquet(\"df_lemmatized\")"
   ]
  },
  {
   "cell_type": "code",
   "execution_count": 7,
   "metadata": {},
   "outputs": [
    {
     "name": "stderr",
     "output_type": "stream",
     "text": [
      "SLF4J: Failed to load class \"org.slf4j.impl.StaticMDCBinder\".\n",
      "SLF4J: Defaulting to no-operation MDCAdapter implementation.\n",
      "SLF4J: See http://www.slf4j.org/codes.html#no_static_mdc_binder for further details.\n",
      "                                                                                \r"
     ]
    }
   ],
   "source": [
    "df_lemmatized = spark.read.parquet(\"hdfs://localhost:9000/user/yogesh/sentiment_analysis/df_lemmatized\")"
   ]
  },
  {
   "cell_type": "code",
   "execution_count": 8,
   "metadata": {},
   "outputs": [
    {
     "name": "stderr",
     "output_type": "stream",
     "text": [
      "                                                                                \r"
     ]
    },
    {
     "name": "stdout",
     "output_type": "stream",
     "text": [
      "+--------------------+---------+--------------------+--------------------+--------------------+\n",
      "|              Review|sentiment|               words|      filtered_words|  filtered_words_lem|\n",
      "+--------------------+---------+--------------------+--------------------+--------------------+\n",
      "|this ol movie rea...|  Neutral|[this, ol, movie,...|[ol, movie, reall...|[ol, movie, reall...|\n",
      "|this movie is ama...| Positive|[this, movie, is,...|[movie, amazingtr...|[movie, amazingtr...|\n",
      "| years of hesitat...|  Neutral|[, years, of, hes...|[, years, hesitat...|[, year, hesitati...|\n",
      "|my favorite movie...| Positive|[my, favorite, mo...|[favorite, movie,...|[favorite, movie,...|\n",
      "|lightning in a bo...| Positive|[lightning, in, a...|[lightning, bottl...|[lightning, bottl...|\n",
      "+--------------------+---------+--------------------+--------------------+--------------------+\n",
      "only showing top 5 rows\n",
      "\n"
     ]
    }
   ],
   "source": [
    "df_lemmatized.show(n=5)"
   ]
  },
  {
   "cell_type": "markdown",
   "metadata": {},
   "source": [
    "### Create Vocabulary"
   ]
  },
  {
   "cell_type": "code",
   "execution_count": 54,
   "metadata": {},
   "outputs": [],
   "source": [
    "#vocabulary = df_lemmatized.select(explode(col(\"filtered_words_lem\"))).distinct().rdd.flatMap(lambda x: x).collect()"
   ]
  },
  {
   "cell_type": "code",
   "execution_count": null,
   "metadata": {},
   "outputs": [
    {
     "data": {
      "text/plain": [
       "155281"
      ]
     },
     "execution_count": 52,
     "metadata": {},
     "output_type": "execute_result"
    }
   ],
   "source": [
    "#len(vocabulary)"
   ]
  },
  {
   "cell_type": "markdown",
   "metadata": {},
   "source": [
    "#### Save Vocabulary"
   ]
  },
  {
   "cell_type": "code",
   "execution_count": null,
   "metadata": {},
   "outputs": [],
   "source": [
    "# import pickle\n",
    "\n",
    "# with open(\"vocabulary.pkl\", \"wb\") as f:\n",
    "#     pickle.dump(vocabulary, f)"
   ]
  },
  {
   "cell_type": "markdown",
   "metadata": {},
   "source": [
    "#### Load Vocabulary"
   ]
  },
  {
   "cell_type": "code",
   "execution_count": 10,
   "metadata": {},
   "outputs": [],
   "source": [
    "import pickle\n",
    "\n",
    "with open(\"hdfs://localhost:9000/user/yogesh/sentiment_analysis/vocabulary.pkl\", \"rb\") as f:\n",
    "    vocabulary = pickle.load(f)\n"
   ]
  },
  {
   "cell_type": "code",
   "execution_count": 11,
   "metadata": {},
   "outputs": [
    {
     "data": {
      "text/plain": [
       "155281"
      ]
     },
     "execution_count": 11,
     "metadata": {},
     "output_type": "execute_result"
    }
   ],
   "source": [
    "len(vocabulary)"
   ]
  },
  {
   "cell_type": "markdown",
   "metadata": {},
   "source": [
    "### Vectorizer"
   ]
  },
  {
   "cell_type": "code",
   "execution_count": 61,
   "metadata": {},
   "outputs": [],
   "source": [
    "#vectorizer = CountVectorizer.from_voca(inputCol=\"words\", outputCol=\"rawFeatures\")\n",
    "\n",
    "from pyspark.ml.feature import CountVectorizerModel\n",
    "\n",
    "# Assuming 'vocabulary' is a Python list containing unique words\n",
    "cv_model = CountVectorizerModel.from_vocabulary(vocabulary, inputCol=\"words\", outputCol=\"rawFeatures\")\n"
   ]
  },
  {
   "cell_type": "markdown",
   "metadata": {},
   "source": [
    "#### Save Count Vectorizer"
   ]
  },
  {
   "cell_type": "code",
   "execution_count": 12,
   "metadata": {},
   "outputs": [],
   "source": [
    "from pyspark.ml.feature import CountVectorizerModel\n",
    "cv_model = CountVectorizerModel.load(\"hdfs://localhost:9000/user/yogesh/sentiment_analysis/count_vectorizer2\")"
   ]
  },
  {
   "cell_type": "markdown",
   "metadata": {},
   "source": [
    "#### Apply Count Vectorizer"
   ]
  },
  {
   "cell_type": "code",
   "execution_count": 13,
   "metadata": {},
   "outputs": [],
   "source": [
    "#cv_model = vectorizer.fit(df_filtered)\n",
    "df_tf = cv_model.transform(df_lemmatized)"
   ]
  },
  {
   "cell_type": "markdown",
   "metadata": {},
   "source": [
    "#### Save Count Vectorizer"
   ]
  },
  {
   "cell_type": "code",
   "execution_count": 52,
   "metadata": {},
   "outputs": [
    {
     "name": "stderr",
     "output_type": "stream",
     "text": [
      "                                                                                \r"
     ]
    }
   ],
   "source": [
    "cv_model.write().overwrite().save(\"hdfs://localhost:9000/user/yogesh/sentiment_analysis/count_vectorizer2\")"
   ]
  },
  {
   "cell_type": "markdown",
   "metadata": {},
   "source": [
    "### TF-IDF for Textual to Numerical Conversion"
   ]
  },
  {
   "cell_type": "code",
   "execution_count": 16,
   "metadata": {},
   "outputs": [],
   "source": [
    "idf = IDF(inputCol=\"rawFeatures\", outputCol=\"features\")"
   ]
  },
  {
   "cell_type": "code",
   "execution_count": 17,
   "metadata": {},
   "outputs": [
    {
     "name": "stderr",
     "output_type": "stream",
     "text": [
      "                                                                                \r"
     ]
    }
   ],
   "source": [
    "idf_model = idf.fit(df_tf)\n",
    "df_tfidf = idf_model.transform(df_tf)"
   ]
  },
  {
   "cell_type": "code",
   "execution_count": 61,
   "metadata": {},
   "outputs": [
    {
     "name": "stderr",
     "output_type": "stream",
     "text": [
      "[Stage 103:>                                                        (0 + 1) / 1]\r"
     ]
    },
    {
     "name": "stdout",
     "output_type": "stream",
     "text": [
      "+--------------------+---------+--------------------+--------------------+--------------------+--------------------+--------------------+\n",
      "|              Review|sentiment|               words|      filtered_words|  filtered_words_lem|         rawFeatures|            features|\n",
      "+--------------------+---------+--------------------+--------------------+--------------------+--------------------+--------------------+\n",
      "|this ol movie rea...|  Neutral|[this, ol, movie,...|[ol, movie, reall...|[ol, movie, reall...|(155281,[0,255,25...|(155281,[0,255,25...|\n",
      "|this movie is ama...| Positive|[this, movie, is,...|[movie, amazingtr...|[movie, amazingtr...|(155281,[258,1010...|(155281,[258,1010...|\n",
      "| years of hesitat...|  Neutral|[, years, of, hes...|[, years, hesitat...|[, year, hesitati...|(155281,[510,1239...|(155281,[510,1239...|\n",
      "|my favorite movie...| Positive|[my, favorite, mo...|[favorite, movie,...|[favorite, movie,...|(155281,[1,510,12...|(155281,[1,510,12...|\n",
      "|lightning in a bo...| Positive|[lightning, in, a...|[lightning, bottl...|[lightning, bottl...|(155281,[1,778,14...|(155281,[1,778,14...|\n",
      "|wow  i saw this i...| Negative|[wow, , i, saw, t...|[wow, , saw, thea...|[wow, , saw, thea...|(155281,[778,1011...|(155281,[778,1011...|\n",
      "|weve all got issu...|  Neutral|[weve, all, got, ...|[weve, got, issue...|[weve, got, issue...|(155281,[1,259,51...|(155281,[1,259,51...|\n",
      "|silver linings pl...| Positive|[silver, linings,...|[silver, linings,...|[silver, lining, ...|(155281,[7730,280...|(155281,[7730,280...|\n",
      "|one of the best r...| Positive|[one, of, the, be...|[one, best, roman...|[one, best, roman...|(155281,[781,1475...|(155281,[781,1475...|\n",
      "|pretty okay drama...|  Neutral|[pretty, okay, dr...|[pretty, okay, dr...|[pretty, okay, dr...|(155281,[260,1474...|(155281,[260,1474...|\n",
      "|a stark portrayal...|  Neutral|[a, stark, portra...|[stark, portrayal...|[stark, portrayal...|(155281,[261,510,...|(155281,[261,510,...|\n",
      "|proof that rating...| Negative|[proof, that, rat...|[proof, ratings, ...|[proof, rating, m...|(155281,[2,259,26...|(155281,[2,259,26...|\n",
      "|excellent my fall...| Positive|[excellent, my, f...|[excellent, fall,...|[excellent, fall,...|(155281,[1,1474,1...|(155281,[1,1474,1...|\n",
      "|most wonderful nd...| Positive|[most, wonderful,...|[wonderful, nd, w...|[wonderful, nd, w...|(155281,[3,2421,4...|(155281,[3,2421,4...|\n",
      "|well done  one of...| Positive|[well, done, , on...|[well, done, , on...|[well, done, , on...|(155281,[779,1954...|(155281,[779,1954...|\n",
      "|great great movie...| Positive|[great, great, mo...|[great, great, mo...|[great, great, mo...|(155281,[4,782,34...|(155281,[4,782,34...|\n",
      "|not bad entertain...|  Neutral|[not, bad, entert...|[bad, entertainme...|[bad, entertainme...|(155281,[263,3164...|(155281,[263,3164...|\n",
      "|could have been m...|  Neutral|[could, have, bee...|[could, much, wor...|[could, much, wor...|(155281,[5,262,51...|(155281,[5,262,51...|\n",
      "|horrible  after r...| Negative|[horrible, , afte...|[horrible, , rent...|[horrible, , rent...|(155281,[513,1239...|(155281,[513,1239...|\n",
      "|and you thought r...| Negative|[and, you, though...|[thought, res, ev...|[thought, re, evi...|(155281,[510,779,...|(155281,[510,779,...|\n",
      "+--------------------+---------+--------------------+--------------------+--------------------+--------------------+--------------------+\n",
      "only showing top 20 rows\n",
      "\n"
     ]
    },
    {
     "name": "stderr",
     "output_type": "stream",
     "text": [
      "                                                                                \r"
     ]
    }
   ],
   "source": [
    "df_tfidf.show()"
   ]
  },
  {
   "cell_type": "markdown",
   "metadata": {},
   "source": [
    "#### Save TF-IDF Model"
   ]
  },
  {
   "cell_type": "code",
   "execution_count": 56,
   "metadata": {},
   "outputs": [],
   "source": [
    "idf_model.write().overwrite().save(\"hdfs://localhost:9000/user/yogesh/sentiment_analysis/idf_model\")"
   ]
  },
  {
   "cell_type": "markdown",
   "metadata": {},
   "source": [
    "####  Load TF-IDF"
   ]
  },
  {
   "cell_type": "code",
   "execution_count": 58,
   "metadata": {},
   "outputs": [],
   "source": [
    "from pyspark.ml.feature import IDFModel\n",
    "idf_model = IDFModel.load(\"hdfs://localhost:9000/user/yogesh/sentiment_analysis/idf_model\")"
   ]
  },
  {
   "cell_type": "markdown",
   "metadata": {},
   "source": [
    "#### Indexing or Encoding using StringIndexer"
   ]
  },
  {
   "cell_type": "code",
   "execution_count": 18,
   "metadata": {},
   "outputs": [
    {
     "name": "stderr",
     "output_type": "stream",
     "text": [
      "                                                                                \r"
     ]
    }
   ],
   "source": [
    "indexer = StringIndexer(inputCol=\"sentiment\", outputCol=\"label\")\n",
    "df_final = indexer.fit(df_tfidf).transform(df_tfidf)\n",
    "indexer_model = indexer.fit(df_tfidf)"
   ]
  },
  {
   "cell_type": "markdown",
   "metadata": {},
   "source": [
    "#### Checking Labels for Indexer"
   ]
  },
  {
   "cell_type": "code",
   "execution_count": 19,
   "metadata": {},
   "outputs": [
    {
     "data": {
      "text/plain": [
       "['Negative', 'Positive', 'Neutral']"
      ]
     },
     "execution_count": 19,
     "metadata": {},
     "output_type": "execute_result"
    }
   ],
   "source": [
    "indexer_model.labels"
   ]
  },
  {
   "cell_type": "markdown",
   "metadata": {},
   "source": [
    "#### Save LabelEncoder/StringIndexer"
   ]
  },
  {
   "cell_type": "code",
   "execution_count": 59,
   "metadata": {},
   "outputs": [],
   "source": [
    "indexer_model.write().overwrite().save(\"hdfs://localhost:9000/user/yogesh/sentiment_analysis/indexer_main\")"
   ]
  },
  {
   "cell_type": "code",
   "execution_count": 64,
   "metadata": {},
   "outputs": [
    {
     "name": "stderr",
     "output_type": "stream",
     "text": [
      "[Stage 118:>                                                        (0 + 1) / 1]\r"
     ]
    },
    {
     "name": "stdout",
     "output_type": "stream",
     "text": [
      "+--------------------+---------+--------------------+--------------------+--------------------+--------------------+--------------------+-----+\n",
      "|              Review|sentiment|               words|      filtered_words|  filtered_words_lem|         rawFeatures|            features|label|\n",
      "+--------------------+---------+--------------------+--------------------+--------------------+--------------------+--------------------+-----+\n",
      "|this ol movie rea...|  Neutral|[this, ol, movie,...|[ol, movie, reall...|[ol, movie, reall...|(155281,[0,255,25...|(155281,[0,255,25...|  2.0|\n",
      "|this movie is ama...| Positive|[this, movie, is,...|[movie, amazingtr...|[movie, amazingtr...|(155281,[258,1010...|(155281,[258,1010...|  1.0|\n",
      "| years of hesitat...|  Neutral|[, years, of, hes...|[, years, hesitat...|[, year, hesitati...|(155281,[510,1239...|(155281,[510,1239...|  2.0|\n",
      "|my favorite movie...| Positive|[my, favorite, mo...|[favorite, movie,...|[favorite, movie,...|(155281,[1,510,12...|(155281,[1,510,12...|  1.0|\n",
      "|lightning in a bo...| Positive|[lightning, in, a...|[lightning, bottl...|[lightning, bottl...|(155281,[1,778,14...|(155281,[1,778,14...|  1.0|\n",
      "|wow  i saw this i...| Negative|[wow, , i, saw, t...|[wow, , saw, thea...|[wow, , saw, thea...|(155281,[778,1011...|(155281,[778,1011...|  0.0|\n",
      "|weve all got issu...|  Neutral|[weve, all, got, ...|[weve, got, issue...|[weve, got, issue...|(155281,[1,259,51...|(155281,[1,259,51...|  2.0|\n",
      "|silver linings pl...| Positive|[silver, linings,...|[silver, linings,...|[silver, lining, ...|(155281,[7730,280...|(155281,[7730,280...|  1.0|\n",
      "|one of the best r...| Positive|[one, of, the, be...|[one, best, roman...|[one, best, roman...|(155281,[781,1475...|(155281,[781,1475...|  1.0|\n",
      "|pretty okay drama...|  Neutral|[pretty, okay, dr...|[pretty, okay, dr...|[pretty, okay, dr...|(155281,[260,1474...|(155281,[260,1474...|  2.0|\n",
      "|a stark portrayal...|  Neutral|[a, stark, portra...|[stark, portrayal...|[stark, portrayal...|(155281,[261,510,...|(155281,[261,510,...|  2.0|\n",
      "|proof that rating...| Negative|[proof, that, rat...|[proof, ratings, ...|[proof, rating, m...|(155281,[2,259,26...|(155281,[2,259,26...|  0.0|\n",
      "|excellent my fall...| Positive|[excellent, my, f...|[excellent, fall,...|[excellent, fall,...|(155281,[1,1474,1...|(155281,[1,1474,1...|  1.0|\n",
      "|most wonderful nd...| Positive|[most, wonderful,...|[wonderful, nd, w...|[wonderful, nd, w...|(155281,[3,2421,4...|(155281,[3,2421,4...|  1.0|\n",
      "|well done  one of...| Positive|[well, done, , on...|[well, done, , on...|[well, done, , on...|(155281,[779,1954...|(155281,[779,1954...|  1.0|\n",
      "|great great movie...| Positive|[great, great, mo...|[great, great, mo...|[great, great, mo...|(155281,[4,782,34...|(155281,[4,782,34...|  1.0|\n",
      "|not bad entertain...|  Neutral|[not, bad, entert...|[bad, entertainme...|[bad, entertainme...|(155281,[263,3164...|(155281,[263,3164...|  2.0|\n",
      "|could have been m...|  Neutral|[could, have, bee...|[could, much, wor...|[could, much, wor...|(155281,[5,262,51...|(155281,[5,262,51...|  2.0|\n",
      "|horrible  after r...| Negative|[horrible, , afte...|[horrible, , rent...|[horrible, , rent...|(155281,[513,1239...|(155281,[513,1239...|  0.0|\n",
      "|and you thought r...| Negative|[and, you, though...|[thought, res, ev...|[thought, re, evi...|(155281,[510,779,...|(155281,[510,779,...|  0.0|\n",
      "+--------------------+---------+--------------------+--------------------+--------------------+--------------------+--------------------+-----+\n",
      "only showing top 20 rows\n",
      "\n"
     ]
    },
    {
     "name": "stderr",
     "output_type": "stream",
     "text": [
      "                                                                                \r"
     ]
    }
   ],
   "source": [
    "df_final.show()"
   ]
  },
  {
   "cell_type": "markdown",
   "metadata": {},
   "source": [
    "#### Save Final Dataframe"
   ]
  },
  {
   "cell_type": "code",
   "execution_count": 20,
   "metadata": {},
   "outputs": [
    {
     "name": "stderr",
     "output_type": "stream",
     "text": [
      "                                                                                \r"
     ]
    }
   ],
   "source": [
    "df_final.write.mode(\"overwrite\").parquet(\"df_final\")"
   ]
  },
  {
   "cell_type": "markdown",
   "metadata": {},
   "source": [
    "#### Load Final Dataframe"
   ]
  },
  {
   "cell_type": "code",
   "execution_count": 5,
   "metadata": {},
   "outputs": [
    {
     "name": "stderr",
     "output_type": "stream",
     "text": [
      "SLF4J: Failed to load class \"org.slf4j.impl.StaticMDCBinder\".\n",
      "SLF4J: Defaulting to no-operation MDCAdapter implementation.\n",
      "SLF4J: See http://www.slf4j.org/codes.html#no_static_mdc_binder for further details.\n",
      "                                                                                \r"
     ]
    }
   ],
   "source": [
    "df_final = spark.read.parquet(\"hdfs://localhost:9000/user/yogesh/sentiment_analysis/df_final\")"
   ]
  },
  {
   "cell_type": "code",
   "execution_count": 6,
   "metadata": {},
   "outputs": [
    {
     "name": "stderr",
     "output_type": "stream",
     "text": [
      "                                                                                \r"
     ]
    },
    {
     "name": "stdout",
     "output_type": "stream",
     "text": [
      "+--------------------+---------+--------------------+--------------------+--------------------+--------------------+--------------------+-----+\n",
      "|              Review|sentiment|               words|      filtered_words|  filtered_words_lem|         rawFeatures|            features|label|\n",
      "+--------------------+---------+--------------------+--------------------+--------------------+--------------------+--------------------+-----+\n",
      "|this ol movie rea...|  Neutral|[this, ol, movie,...|[ol, movie, reall...|[ol, movie, reall...|(155281,[0,255,25...|(155281,[0,255,25...|  2.0|\n",
      "|this movie is ama...| Positive|[this, movie, is,...|[movie, amazingtr...|[movie, amazingtr...|(155281,[258,1010...|(155281,[258,1010...|  1.0|\n",
      "| years of hesitat...|  Neutral|[, years, of, hes...|[, years, hesitat...|[, year, hesitati...|(155281,[510,1239...|(155281,[510,1239...|  2.0|\n",
      "|my favorite movie...| Positive|[my, favorite, mo...|[favorite, movie,...|[favorite, movie,...|(155281,[1,510,12...|(155281,[1,510,12...|  1.0|\n",
      "|lightning in a bo...| Positive|[lightning, in, a...|[lightning, bottl...|[lightning, bottl...|(155281,[1,778,14...|(155281,[1,778,14...|  1.0|\n",
      "+--------------------+---------+--------------------+--------------------+--------------------+--------------------+--------------------+-----+\n",
      "only showing top 5 rows\n",
      "\n"
     ]
    }
   ],
   "source": [
    "df_final.show(n=5)"
   ]
  },
  {
   "cell_type": "markdown",
   "metadata": {},
   "source": [
    "### Split DataFrame into Training and Testing"
   ]
  },
  {
   "cell_type": "code",
   "execution_count": 7,
   "metadata": {},
   "outputs": [],
   "source": [
    "train_data, test_data = df_final.randomSplit([0.7, 0.3], seed=123456)"
   ]
  },
  {
   "cell_type": "markdown",
   "metadata": {},
   "source": [
    "### Train Model Using Logistic Regression"
   ]
  },
  {
   "cell_type": "code",
   "execution_count": null,
   "metadata": {},
   "outputs": [
    {
     "name": "stderr",
     "output_type": "stream",
     "text": [
      "[Stage 2:======>                                                    (1 + 8) / 9]\r"
     ]
    }
   ],
   "source": [
    "lr = LogisticRegression(featuresCol=\"features\", labelCol=\"label\")\n",
    "lr_model = lr.fit(train_data)"
   ]
  },
  {
   "cell_type": "markdown",
   "metadata": {},
   "source": [
    "#### Save Logistic Regresion Model"
   ]
  },
  {
   "cell_type": "code",
   "execution_count": 63,
   "metadata": {},
   "outputs": [
    {
     "name": "stderr",
     "output_type": "stream",
     "text": [
      "                                                                                \r"
     ]
    }
   ],
   "source": [
    "lr_model.write().overwrite().save(\"hdfs://localhost:9000/user/yogesh/sentiment_analysis/logistic_reg_model\")"
   ]
  },
  {
   "cell_type": "markdown",
   "metadata": {},
   "source": [
    "#### Load Logistic Regression Model"
   ]
  },
  {
   "cell_type": "code",
   "execution_count": 8,
   "metadata": {},
   "outputs": [
    {
     "name": "stderr",
     "output_type": "stream",
     "text": [
      "                                                                                \r"
     ]
    }
   ],
   "source": [
    "from pyspark.ml.classification import LogisticRegressionModel\n",
    "lr_model = LogisticRegressionModel.load(\"hdfs://localhost:9000/user/yogesh/sentiment_analysis/logistic_reg_model\")"
   ]
  },
  {
   "cell_type": "markdown",
   "metadata": {},
   "source": [
    "### Model Evaluation on Test Data"
   ]
  },
  {
   "cell_type": "code",
   "execution_count": 9,
   "metadata": {},
   "outputs": [
    {
     "name": "stderr",
     "output_type": "stream",
     "text": [
      "[Stage 5:>                                                          (0 + 1) / 1]\r"
     ]
    },
    {
     "name": "stdout",
     "output_type": "stream",
     "text": [
      "+------------------------------------------------------------------------------------------------------------------------------------------------------------------------------------------------------------------------------------------------------------------------------------------------------------------------------------------------------------------------------------------------------------------------------------------------------------------------------------------------------------------------------------------------------------------------------------------------------------------------------------------------------------------------------------------------------------------------------------------------------------------------------------------------------------------------------------------------------------------------------------------------------------------------------------------------------------------------------------------------------------------------------------------------------------------------------------------------------------------------------------------------------------------------------------+---------+----------+\n",
      "|Review                                                                                                                                                                                                                                                                                                                                                                                                                                                                                                                                                                                                                                                                                                                                                                                                                                                                                                                                                                                                                                                                                                                                                                              |sentiment|prediction|\n",
      "+------------------------------------------------------------------------------------------------------------------------------------------------------------------------------------------------------------------------------------------------------------------------------------------------------------------------------------------------------------------------------------------------------------------------------------------------------------------------------------------------------------------------------------------------------------------------------------------------------------------------------------------------------------------------------------------------------------------------------------------------------------------------------------------------------------------------------------------------------------------------------------------------------------------------------------------------------------------------------------------------------------------------------------------------------------------------------------------------------------------------------------------------------------------------------------+---------+----------+\n",
      "|                                                                                                                                                                                                                                                                                                                                                                                                                                                                                                                                                                                                                                                                                                                                                                                                                                                                                                                                                                                                                                                                                                                                                                                    |Negative |0.0       |\n",
      "|  a truly perfect image one that will live on in movie history was adopted by godard for anything goes\\n\\neach closeup of maria falconetti is one of the most direct and artistically valuable tremors of the dreyer image the face is the thing that really cuts through the void of value that an image needs penetrating the heart and hitting it directly\\n\\nthe postsoundtrack on the bsite version seems a bit contrived but its quite shocking and the opening long shot is stunning\\n\\na truly perfect image one that will live on in movie history was adopted by godard for anything goes\\n\\neach closeup of maria falconetti is one of the most direct and artistically valuable tremors of the dreyer image the face is the thing that really cuts through the void of value that an image needs penetrating the heart and hitting it directly\\n\\nthe postsoundtrack on the bsite version seems a bit contrived but its quite shocking and the opening long shot is stunning                                                                                                                                                                                            |Positive |1.0       |\n",
      "|  i dont understand why everyone has such a problem with this movie its far from being the disaster that the street fighter movie was i mean i have no idea what the anime is about or how close it sticks to it but i had a hell of a lotta fun watching this it really felt like a live action anime it featured a good looking cast good special effects and pretty good fight scenes sure the film was silly and even less sillier than most animes are it look a lot of getting used to to see what they were going for and truth be told somethings just work better animated but all in all a very entertaining film not very deserving of the unfortunate rep its getting                                                                                                                                                                                                                                                                                                                                                                                                                                                                                                   |Neutral  |1.0       |\n",
      "|  i watched this movie a couple years ago i cant say that im a long time fan of the black christmas movies after i saw clips of the  movie on youtube i decided to watch all films in chronological order i fell in love with the original s one the comedy was perfect imo opinion and all the death scenes were great i especially loved barb as a character the second movie obviously didnt live up to expectations and there were lore changes that i wasnt fond of the  failed on every level for me i couldnt find anything redeemable about this film its just strange to take the villain out of a slasher series if theres no billy theres no black christmas it just seemed like they used the namesake just to get guaranteed views which isnt uncommon nowadays pg slasher films just dont work i wanted blood and guts yet i received agonizing mediocrity honestly as a feminist myself i found it disgusting that this was advertised as a feminist film when the original was much better at being both a feminist film and a slasher film                                                                                                                         |Negative |0.0       |\n",
      "|  im too young for having seen the tvseries that the film was based on and therefore i unfortunately cant compare them anyhow the movie is typical for hollywood today you take a script based on a popular event add some big actors and then you have a movie that has to become a blockbuster or is it really that simple as everyone knows the avengers wasnt a success in the theaters which is good but at the same time very sad good because the audience obviously doesnt watch any movie that has a great budget but bad because of that there are some great things about the movie first of all the script was funny but since the film was cut down theres not a lot left of it the parts that were left though were adequate the cinematography by roger pratt is beautiful and both the production design and the costume design was dazzling the actors do a good job and deliver their oneliners with good timing sure this movie isnt one of the best actionadventures that ive seen but works out quite well on a sunday afternoon too bad is only the bitter aftertaste that they could have made a much better film with the resources that they had\\n\\nrating |Neutral  |2.0       |\n",
      "|  its the sort of movie you make with your pocket money how do you make a movie and step back with pride its a poster movie for everything not to do in movie making                                                                                                                                                                                                                                                                                                                                                                                                                                                                                                                                                                                                                                                                                                                                                                                                                                                                                                                                                                                                                |Negative |0.0       |\n",
      "|  stupidity bad cringetime wasting disappointing  no point to watch awkward movie                                                                                                                                                                                                                                                                                                                                                                                                                                                                                                                                                                                                                                                                                                                                                                                                                                                                                                                                                                                                                                                                                                   |Negative |0.0       |\n",
      "|  the reason why i titled this review  is because of every joke youll have a  chance of laughing there were tons of toilet humor with the sneezefartburp jokes but with the wanna be rap boy saying whaaaaaaaat some people might like the toilet humor i thought it was gross but i actually liked the whaaaaaaaaat parts the college kids parts sort of make me cringe at things they said and did the story was great though with it all taking place in one day the cop situation was very unrealistic pointing their loaded guns at people for no reason not stopping riotingmass fighting and they would definitely get fired if it was in real life\\n\\noverall it was pretty funny with a  chance of laughing i definitely wouldnt rate it a onestar like some people are doing i would rate it a  but its a  for the story just wait until its on redboxnetflix                                                                                                                                                                                                                                                                                                             |Neutral  |1.0       |\n",
      "|  this is a movie without flying plots and you dont feel bored at all for the entire movie many layers of deceptions from different views worth watching for not only one time there are tons of forums talking about this and mentioned that this is based on a tv series of bbc now im curious about that tv series                                                                                                                                                                                                                                                                                                                                                                                                                                                                                                                                                                                                                                                                                                                                                                                                                                                               |Positive |1.0       |\n",
      "|  wish i could rate it  consider yourself lucky if you have not seen it                                                                                                                                                                                                                                                                                                                                                                                                                                                                                                                                                                                                                                                                                                                                                                                                                                                                                                                                                                                                                                                                                                             |Negative |0.0       |\n",
      "+------------------------------------------------------------------------------------------------------------------------------------------------------------------------------------------------------------------------------------------------------------------------------------------------------------------------------------------------------------------------------------------------------------------------------------------------------------------------------------------------------------------------------------------------------------------------------------------------------------------------------------------------------------------------------------------------------------------------------------------------------------------------------------------------------------------------------------------------------------------------------------------------------------------------------------------------------------------------------------------------------------------------------------------------------------------------------------------------------------------------------------------------------------------------------------+---------+----------+\n",
      "only showing top 10 rows\n",
      "\n"
     ]
    },
    {
     "name": "stderr",
     "output_type": "stream",
     "text": [
      "                                                                                \r"
     ]
    }
   ],
   "source": [
    "predictions = lr_model.transform(test_data)\n",
    "predictions.select(\"Review\", \"sentiment\", \"prediction\").show(10, truncate=False)"
   ]
  },
  {
   "cell_type": "code",
   "execution_count": 26,
   "metadata": {},
   "outputs": [],
   "source": [
    "evaluator = MulticlassClassificationEvaluator(labelCol=\"label\", metricName=\"accuracy\")"
   ]
  },
  {
   "cell_type": "code",
   "execution_count": null,
   "metadata": {},
   "outputs": [
    {
     "name": "stderr",
     "output_type": "stream",
     "text": [
      "[Stage 20:>                                                         (0 + 8) / 9]\r"
     ]
    }
   ],
   "source": [
    "accuracy = evaluator.evaluate(predictions.limit(1000))"
   ]
  },
  {
   "cell_type": "code",
   "execution_count": null,
   "metadata": {},
   "outputs": [],
   "source": [
    "print(f\"Test Accuracy: {accuracy:.4f}\")"
   ]
  },
  {
   "cell_type": "code",
   "execution_count": 12,
   "metadata": {},
   "outputs": [
    {
     "name": "stderr",
     "output_type": "stream",
     "text": [
      "                                                                                \r"
     ]
    },
    {
     "name": "stdout",
     "output_type": "stream",
     "text": [
      "Test Accuracy: 0.8099\n"
     ]
    }
   ],
   "source": [
    "sampled_predictions = predictions.sample(fraction=0.05, seed=42)  # Small sample\n",
    "sampled_predictions = sampled_predictions.select(\"label\", \"prediction\").dropna()\n",
    "\n",
    "evaluator = MulticlassClassificationEvaluator(labelCol=\"label\", metricName=\"accuracy\")\n",
    "accuracy = evaluator.evaluate(sampled_predictions)\n",
    "\n",
    "print(f\"Test Accuracy: {accuracy:.4f}\")\n"
   ]
  },
  {
   "cell_type": "code",
   "execution_count": null,
   "metadata": {},
   "outputs": [],
   "source": []
  }
 ],
 "metadata": {
  "kernelspec": {
   "display_name": "Python 3 (ipykernel)",
   "language": "python",
   "name": "python3"
  },
  "language_info": {
   "codemirror_mode": {
    "name": "ipython",
    "version": 3
   },
   "file_extension": ".py",
   "mimetype": "text/x-python",
   "name": "python",
   "nbconvert_exporter": "python",
   "pygments_lexer": "ipython3",
   "version": "3.10.12"
  }
 },
 "nbformat": 4,
 "nbformat_minor": 4
}
